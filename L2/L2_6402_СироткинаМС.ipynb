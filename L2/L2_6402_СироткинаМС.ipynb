{
  "nbformat": 4,
  "nbformat_minor": 0,
  "metadata": {
    "colab": {
      "provenance": []
    },
    "kernelspec": {
      "name": "python3",
      "display_name": "Python 3"
    },
    "language_info": {
      "name": "python"
    }
  },
  "cells": [
    {
      "cell_type": "code",
      "execution_count": null,
      "metadata": {
        "colab": {
          "base_uri": "https://localhost:8080/"
        },
        "id": "aPcLGpwYIpFh",
        "outputId": "830dbf24-25d8-4b5c-c29e-2460e505aca1"
      },
      "outputs": [
        {
          "output_type": "stream",
          "name": "stdout",
          "text": [
            "Requirement already satisfied: pyspark in /usr/local/lib/python3.11/dist-packages (3.5.5)\n",
            "Requirement already satisfied: py4j==0.10.9.7 in /usr/local/lib/python3.11/dist-packages (from pyspark) (0.10.9.7)\n"
          ]
        }
      ],
      "source": [
        "# Установка PySpark в Google Colab\n",
        "!pip install pyspark\n"
      ]
    },
    {
      "cell_type": "code",
      "source": [
        "\n",
        "# Загрузка файла posts_sample.xml\n",
        "!wget https://git.ai.ssau.ru/tk/big_data/raw/branch/master/data/posts_sample.xml\n",
        "\n",
        "# Загрузка файла programming-languages.csv\n",
        "!wget https://git.ai.ssau.ru/tk/big_data/raw/branch/master/data/programming-languages.csv\n"
      ],
      "metadata": {
        "colab": {
          "base_uri": "https://localhost:8080/"
        },
        "id": "b_YIARMyJiWM",
        "outputId": "dce35533-566e-4e07-ca9d-3ddc7290b673"
      },
      "execution_count": null,
      "outputs": [
        {
          "output_type": "stream",
          "name": "stdout",
          "text": [
            "--2025-04-09 09:45:23--  https://git.ai.ssau.ru/tk/big_data/raw/branch/master/data/posts_sample.xml\n",
            "Resolving git.ai.ssau.ru (git.ai.ssau.ru)... 91.222.131.161\n",
            "Connecting to git.ai.ssau.ru (git.ai.ssau.ru)|91.222.131.161|:443... connected.\n",
            "HTTP request sent, awaiting response... 200 OK\n",
            "Length: 74162295 (71M) [text/plain]\n",
            "Saving to: ‘posts_sample.xml’\n",
            "\n",
            "posts_sample.xml    100%[===================>]  70.73M   300KB/s    in 3m 17s  \n",
            "\n",
            "2025-04-09 09:48:42 (367 KB/s) - ‘posts_sample.xml’ saved [74162295/74162295]\n",
            "\n",
            "--2025-04-09 09:48:42--  https://git.ai.ssau.ru/tk/big_data/raw/branch/master/data/programming-languages.csv\n",
            "Resolving git.ai.ssau.ru (git.ai.ssau.ru)... 91.222.131.161\n",
            "Connecting to git.ai.ssau.ru (git.ai.ssau.ru)|91.222.131.161|:443... connected.\n",
            "HTTP request sent, awaiting response... 200 OK\n",
            "Length: 40269 (39K) [text/plain]\n",
            "Saving to: ‘programming-languages.csv’\n",
            "\n",
            "programming-languag 100%[===================>]  39.33K   128KB/s    in 0.3s    \n",
            "\n",
            "2025-04-09 09:48:43 (128 KB/s) - ‘programming-languages.csv’ saved [40269/40269]\n",
            "\n"
          ]
        }
      ]
    },
    {
      "cell_type": "code",
      "source": [
        "import os\n",
        "import sys\n",
        "from pyspark.sql import SparkSession\n",
        "import pyspark.sql.functions as F\n",
        "from pyspark.sql.types import StructType, StructField, IntegerType, StringType\n",
        "\n",
        "# Настройка переменных окружения для PySpark\n",
        "os.environ['PYSPARK_PYTHON'] = sys.executable\n",
        "os.environ['PYSPARK_DRIVER_PYTHON'] = sys.executable\n",
        "os.environ['PYSPARK_SUBMIT_ARGS'] = '--packages com.databricks:spark-xml_2.12:0.17.0 pyspark-shell'\n",
        "\n",
        "# Создание SparkSession\n",
        "spark = SparkSession.builder \\\n",
        "    .appName(\"Top Programming Languages 2010-2020 by Year\") \\\n",
        "    .getOrCreate()"
      ],
      "metadata": {
        "id": "KabG8t0XKJ5d"
      },
      "execution_count": null,
      "outputs": []
    },
    {
      "cell_type": "code",
      "source": [
        "# 1. Чтение XML-файла с постами и фильтрация\n",
        "posts_df = spark.read \\\n",
        "    .format('xml') \\\n",
        "    .option('rowTag', 'row') \\\n",
        "    .option(\"timestampFormat\", 'y/M/d H:m:s') \\\n",
        "    .load('posts_sample.xml') \\\n",
        "    .filter(F.col(\"_PostTypeId\") == 1)\n",
        "\n",
        "# Фильтрация по дате и добавление года\n",
        "posts_df = posts_df.filter(F.col(\"_CreationDate\").between(\"2010-01-01\", \"2020-12-31\")) \\\n",
        "                   .withColumn(\"Year\", F.year(F.col(\"_CreationDate\")))\n",
        "print(\"Первые 10 строк из posts_df :\")\n",
        "posts_df.show(10, truncate=False)\n",
        "print(\"Общее количество вопросов в posts_df:\", posts_df.count())"
      ],
      "metadata": {
        "id": "i7JQvDk0KQT9",
        "colab": {
          "base_uri": "https://localhost:8080/"
        },
        "outputId": "c90fca43-8da4-481c-e379-5f2879c95e64"
      },
      "execution_count": null,
      "outputs": [
        {
          "output_type": "stream",
          "name": "stdout",
          "text": [
            "Первые 10 строк из posts_df :\n",
            "+-----------------+------------+--------------------------------------------------------------------------------------------------------------------------------------------------------------------------------------------------------------------------------------------------------------------------------------------------------------------------------------------------------------------------------------------------------------------------------------------------------------------------------------------------------------------------------------------------------------------------------------------------------------------------------------------------------------------------------------------------------------------------------------------------------------------------------------------------------------------------------------------------------------------------------------------------------------------------------------------------------------------------------------------------------------------------------------------------------------------------------------------------------------------------------------------------------------------------------------------------------------------------+-----------+-------------+-------------------+-----------------------+--------------+-------+-----------------------+-----------------------+----------------------+-----------------+-----------------+------------+---------+-----------+------+--------------------------------------+------------------------------------------------------------------------------------------+----------+----+\n",
            "|_AcceptedAnswerId|_AnswerCount|_Body                                                                                                                                                                                                                                                                                                                                                                                                                                                                                                                                                                                                                                                                                                                                                                                                                                                                                                                                                                                                                                                                                                                                                                                                                     |_ClosedDate|_CommentCount|_CommunityOwnedDate|_CreationDate          |_FavoriteCount|_Id    |_LastActivityDate      |_LastEditDate          |_LastEditorDisplayName|_LastEditorUserId|_OwnerDisplayName|_OwnerUserId|_ParentId|_PostTypeId|_Score|_Tags                                 |_Title                                                                                    |_ViewCount|Year|\n",
            "+-----------------+------------+--------------------------------------------------------------------------------------------------------------------------------------------------------------------------------------------------------------------------------------------------------------------------------------------------------------------------------------------------------------------------------------------------------------------------------------------------------------------------------------------------------------------------------------------------------------------------------------------------------------------------------------------------------------------------------------------------------------------------------------------------------------------------------------------------------------------------------------------------------------------------------------------------------------------------------------------------------------------------------------------------------------------------------------------------------------------------------------------------------------------------------------------------------------------------------------------------------------------------+-----------+-------------+-------------------+-----------------------+--------------+-------+-----------------------+-----------------------+----------------------+-----------------+-----------------+------------+---------+-----------+------+--------------------------------------+------------------------------------------------------------------------------------------+----------+----+\n",
            "|4248640          |1           |<p>The standard defines</p>\\n\\n<ul>\\n<li><p>basic source character set</p></li>\\n<li><p>basic execution character set and its wide char counterpart</p></li>\\n</ul>\\n\\n<p>It also defines 'execution character set' and its wide char counterpart as follows</p>\\n\\n<blockquote>\\n  <p>$2.2/3- \"The execution character set\\n  and the execution wide-character set\\n  are supersets of the basic execution\\n  character set and the basic execution\\n  wide-character set, respectively. The\\n  values of the members of the execution\\n  character sets are\\n  implementation-defined, and any\\n  additional members are\\n  locale-specific.\"</p>\\n</blockquote>\\n\\n<p>Q1. I don't think I understand this completely, particularly the last statement. Any pointers on this aspect?</p>\\n\\n<p>Further,</p>\\n\\n<blockquote>\\n  <p>$3.9.1 - \"Objects declared as\\n  characters (char) shall be large\\n  enough to store any member of the\\n  implementation’s basic character set.\"</p>\\n</blockquote>\\n\\n<p>Q2. In 3.9.1 the phrase 'basic character set' means 'basic execution character set'?</p>\\n                                                                                                                  |NULL       |0            |NULL               |2010-09-22 10:33:21.79 |5             |3768363|2017-02-26 18:11:24.993|2017-02-26 18:11:24.993|NULL                  |1848654          |NULL             |418110      |NULL     |1          |10    |<c++><character-encoding>             |Character sets - Not clear                                                                |3650      |2010|\n",
            "|NULL             |1           |<p>I am using the code given at following link : <a href=\"http://blogs.msdn.com/b/edhild/archive/2007/05/08/display-browser-enabled-infopath-forms-in-a-web-part.aspx\" rel=\"nofollow noreferrer\">How To: Display browser enabled InfoPath forms in a web part supporting connections</a> in my custom web part.</p>\\n\\n<p>Does any one know how to switch the Infopath view to a specific View when the web part loads ?</p>\\n\\n<p>Thanks,<br>\\nNikhil</p>\\n                                                                                                                                                                                                                                                                                                                                                                                                                                                                                                                                                                                                                                                                                                                                                              |NULL       |0            |NULL               |2010-09-23 06:47:28.92 |NULL          |3775996|2010-11-23 13:14:20.737|2010-09-23 07:00:57.08 |NULL                  |196458           |NULL             |196458      |NULL     |1          |1     |<sharepoint><infopath>                |Hiow to switch Infopath view in XMLFormView Webpart when the Web Part loads?              |617       |2010|\n",
            "|3793084          |5           |<p>I just got rejected on my Free app from app store. I uploaded 3 apps, HD(iPad), PayedIphone and freeiphone. In the free-version I had a link to the fullversion.\\nApparently I need inAppPurchase in the free-version rather than linking to the fullversion.</p>\\n\\n<p>How should I implement this in the easiest way? All I want is a button that says Buy full version and then the free-version becomes the full version. Is it possible to use just those two or do i need to create another full version for this purpose.</p>\\n\\n<p>I have no idea how to make the inAppPurchase except the tutorials Google give me, any recommendations or example code I can use?</p>\\n                                                                                                                                                                                                                                                                                                                                                                                                                                                                                                                                      |NULL       |0            |NULL               |2010-09-23 08:53:14.017|8             |3776721|2012-09-11 14:09:26.7  |2012-09-11 14:09:26.7  |NULL                  |1288             |NULL             |432730      |NULL     |1          |6     |<iphone><app-store><in-app-purchase>  |InApp Purchase rejected in App Store                                                      |1315      |2010|\n",
            "|3783937          |1           |<p>Is there any way to load fixtures that have circular referencing? As an example I have the following fixture:</p>\\n\\n<pre><code>BusinessEntityTeam:\\n  Nicole_Team:\\n    name: Nicole's Team\\n    Manager: [Nicole]\\n    Business: [ACMEWidgets]\\n\\nsfGuardUser\\n  Nicole:\\n    first_name:     Nicole\\n    last_name:      Jones\\n    email_address:  nicole@example.com\\n    username:       nicole\\n    password:       nicole\\n    Groups:         [Group_abc]\\n    Team:           [Nicole_Team]\\n</code></pre>\\n\\n<p>As you can see, Nicole_Team references Nicole... but Nicole also references Nicole_Team.</p>\\n\\n<p>When Manager wasn't a required column this was OK (the fixture loaded, but Manager was NULL), but now it's required it's impossible to load the fixture.</p>\\n\\n<p>The only work-around I can see is to put the Team relation in its own object ('Profile' for example) so the relations are no longer circular.</p>\\n\\n<p>Is there any other approach? Every user has to be in a team, but only a few users are team managers. I'm quite open to the fact that my data model may be badly designed and have room for improvement.</p>\\n                                                 |NULL       |0            |NULL               |2010-09-23 11:47:00.833|2             |3777993|2012-04-16 22:54:55.437|2010-09-23 11:58:51.443|NULL                  |119750           |NULL             |119750      |NULL     |1          |5     |<symfony1><schema><doctrine><fixtures>|Doctrine fixtures - circular references                                                   |973       |2010|\n",
            "|NULL             |1           |<p>I did a code in java for file comparison. This compares two file contents and gives a result like :  modified line and deleted lines and blank lines. I want them to highlight with different color. (Same as a file compare software does).</p>\\n\\n<p>Thanks in advance.</p>\\n\\n<p>Nitin</p>\\n                                                                                                                                                                                                                                                                                                                                                                                                                                                                                                                                                                                                                                                                                                                                                                                                                                                                                                                        |NULL       |8            |NULL               |2010-09-23 12:13:59.443|NULL          |3778222|2010-09-23 13:52:00.44 |2010-09-23 13:06:53.76 |NULL                  |456138           |NULL             |456138      |NULL     |1          |-4    |<java>                                |Java text highliting                                                                      |132       |2010|\n",
            "|4746300          |1           |<p>I like to split the SA1600 stylecop rule but how to do it?\\nRight now it scans for undocumented classes, constructors, delegates, enums, events, finalizers, indexers, interfaces, methods, properties, and structs. I like to disable the warnings of some of them.</p>\\n                                                                                                                                                                                                                                                                                                                                                                                                                                                                                                                                                                                                                                                                                                                                                                                                                                                                                                                                             |NULL       |0            |NULL               |2010-09-24 08:40:26.883|1             |3785460|2011-01-20 11:02:57.107|NULL                   |NULL                  |NULL             |NULL             |457019      |NULL     |1          |0     |<visual-studio-2010><stylecop>        |Split Stylecop rule SA1600                                                                |419       |2010|\n",
            "|NULL             |4           |<p>My users need to upload large amounts of files to a site (only HTTP access). Also, no matter how much I tell them to shoot the pictures in low resolutions they keep coming back with Massively sized images. Obviously, they complain that it takes them to long to upload all the files thru a simple HTML form - I'm planning on switching to SWFUpload (http://www.swfupload.org/). Any other suggestions or experiences? I'm programming in LAMP using the CakePHP and jQuery frameworks - solution also needs to be browser agnostic (no ActiveX crap) and not use Java.</p>\\n                                                                                                                                                                                                                                                                                                                                                                                                                                                                                                                                                                                                                                   |NULL       |1            |NULL               |2010-09-24 16:34:30.57 |NULL          |3789116|2010-09-26 07:54:02.12 |NULL                   |NULL                  |NULL             |NULL             |455705      |NULL     |1          |1     |<cakephp><file-upload><swfupload>     |Best/Fastest way to UPLOAD files                                                          |869       |2010|\n",
            "|3794829          |1           |<p>I'm completely new at git, and having had prior knowledge with putty decided to set it up to use that.</p>\\n\\n<p>At first it came up with an error I traced back (using google) to me not connecting via plink to the server to cache it.</p>\\n\\n<p>I was able to connect via plink to the git repository I need to clone, but doing the \"git clone x y\" comes up with an authentication error?</p>\\n\\n<p>I assume there's something big I'm missing here :(</p>\\n                                                                                                                                                                                                                                                                                                                                                                                                                                                                                                                                                                                                                                                                                                                                                     |NULL       |0            |NULL               |2010-09-25 17:42:13.08 |NULL          |3794815|2012-05-17 13:22:12.013|2012-05-17 13:22:12.013|NULL                  |159388           |NULL             |2557997     |NULL     |1          |1     |<git><cygwin><putty>                  |Git - Authentication failed                                                               |1303      |2010|\n",
            "|3797893          |4           |<p>Can I install Drupal on a server with 256MB ram ?</p>\\n\\n<p>If yes, how many Drupal websites ? The server is supposed to only run such websites.</p>\\n                                                                                                                                                                                                                                                                                                                                                                                                                                                                                                                                                                                                                                                                                                                                                                                                                                                                                                                                                                                                                                                                 |NULL       |0            |NULL               |2010-09-26 12:58:41.887|NULL          |3797876|2010-09-26 15:33:08.137|NULL                   |NULL                  |NULL             |NULL             |257022      |NULL     |1          |1     |<drupal><drupal-6>                    |Can I install Drupal on a server with 256MB ram?                                          |748       |2010|\n",
            "|NULL             |3           |<p>Ah I'm desperate, I so help someone can help me out!</p>\\n\\n<p>I have a domain: example.com. There are <strong>various WP installations</strong> for different languages, e.g. /en/, /fr/. I have duplicated the English language /en/ to make these other foreign language installations. The original /en/ installation still works great. </p>\\n\\n<p>The other installations work on the front-end, it seems, however, when I try to edit a page, for example, <strong>I get this error</strong>, when updating/saving/submitting:</p>\\n\\n<blockquote>\\n  <p>Fatal error: Out of memory (allocated 28835840) (tried to allocate 35 bytes) in /homepages/../wp-includes/wp-db.php on line 1371</p>\\n</blockquote>\\n\\n<p>This does not happen with the English language installation (/en/), and does not happen when I change other things in the other blog. For instance, <strong>I have managed to change the blog's name, widgets, menus</strong>, etc.</p>\\n\\n<p>I have installed the Memory Booster plugin so <strong>PHP now has 256M</strong> to work with, but this seems to be running out of memory much earlier.</p>\\n\\n<p>Does anyone know how to help? :(</p>\\n\\n<p>So appreciative in advance!!!</p>\\n|NULL       |2            |NULL               |2010-09-26 17:07:04.84 |NULL          |3798872|2010-09-27 14:34:56.397|NULL                   |NULL                  |NULL             |NULL             |447187      |NULL     |1          |3     |<php><wordpress><memory>              |Wordpress - Trying to edit post - \"Fatal error: Out of memory\"... but memory limit is high|1258      |2010|\n",
            "+-----------------+------------+--------------------------------------------------------------------------------------------------------------------------------------------------------------------------------------------------------------------------------------------------------------------------------------------------------------------------------------------------------------------------------------------------------------------------------------------------------------------------------------------------------------------------------------------------------------------------------------------------------------------------------------------------------------------------------------------------------------------------------------------------------------------------------------------------------------------------------------------------------------------------------------------------------------------------------------------------------------------------------------------------------------------------------------------------------------------------------------------------------------------------------------------------------------------------------------------------------------------------+-----------+-------------+-------------------+-----------------------+--------------+-------+-----------------------+-----------------------+----------------------+-----------------+-----------------+------------+---------+-----------+------+--------------------------------------+------------------------------------------------------------------------------------------+----------+----+\n",
            "only showing top 10 rows\n",
            "\n",
            "Общее количество вопросов в posts_df: 17642\n"
          ]
        }
      ]
    },
    {
      "cell_type": "code",
      "source": [
        "# 2. Чтение CSV-файла с языками программирования\n",
        "languages_df = spark.read \\\n",
        "    .format('csv') \\\n",
        "    .option('header', 'true') \\\n",
        "    .option(\"inferSchema\", True) \\\n",
        "    .load('programming-languages.csv') \\\n",
        "    .dropna() \\\n",
        "    .select(F.lower(F.col(\"name\")).alias(\"language\"))\n",
        "print(\"Первые 10 строк из languages_df:\")\n",
        "languages_df.show(10, truncate=False)"
      ],
      "metadata": {
        "id": "03iLUUgtKSPN",
        "colab": {
          "base_uri": "https://localhost:8080/"
        },
        "outputId": "e45362e3-462c-42be-801b-06e70ad88ba3"
      },
      "execution_count": null,
      "outputs": [
        {
          "output_type": "stream",
          "name": "stdout",
          "text": [
            "Первые 10 строк из languages_df:\n",
            "+----------+\n",
            "|language  |\n",
            "+----------+\n",
            "|a# .net   |\n",
            "|a# (axiom)|\n",
            "|a-0 system|\n",
            "|a+        |\n",
            "|a++       |\n",
            "|abap      |\n",
            "|abc       |\n",
            "|abc algol |\n",
            "|abset     |\n",
            "|absys     |\n",
            "+----------+\n",
            "only showing top 10 rows\n",
            "\n"
          ]
        }
      ]
    },
    {
      "cell_type": "code",
      "source": [
        "# 3. Создание временных таблиц для SQL-запроса\n",
        "posts_df.createOrReplaceTempView(\"posts\")\n",
        "languages_df.createOrReplaceTempView(\"languages\")"
      ],
      "metadata": {
        "id": "PddUd_g9KWqh"
      },
      "execution_count": null,
      "outputs": []
    },
    {
      "cell_type": "code",
      "source": [
        "# 4. SQL-запрос для подсчета упоминаний языков по годам\n",
        "query = \"\"\"\n",
        "WITH LanguageMentions AS (\n",
        "    SELECT\n",
        "        p.Year,\n",
        "        l.language,\n",
        "        COUNT(*) as mentions\n",
        "    FROM posts p\n",
        "    CROSS JOIN languages l\n",
        "    WHERE LOWER(p._Tags) LIKE CONCAT('%<', l.language, '>%')\n",
        "    GROUP BY p.Year, l.language\n",
        "),\n",
        "RankedLanguages AS (\n",
        "    SELECT\n",
        "        Year,\n",
        "        language,\n",
        "        mentions,\n",
        "        ROW_NUMBER() OVER (PARTITION BY Year ORDER BY mentions DESC) as rank\n",
        "    FROM LanguageMentions\n",
        ")\n",
        "SELECT Year, language, mentions\n",
        "FROM RankedLanguages\n",
        "WHERE rank <= 10\n",
        "ORDER BY Year, mentions DESC\n",
        "\"\"\""
      ],
      "metadata": {
        "id": "50hFxLBXKrL8"
      },
      "execution_count": null,
      "outputs": []
    },
    {
      "cell_type": "code",
      "source": [
        "# 5. Сохранение результата в формате Parquet\n",
        "result_df = spark.sql(query)\n",
        "print(\"Топ-10 языков программирования для каждого года (2010–2020):\")\n",
        "result_df.show(110, truncate=False)"
      ],
      "metadata": {
        "colab": {
          "base_uri": "https://localhost:8080/"
        },
        "id": "uCtVHWPvJJSU",
        "outputId": "8e45fd33-a8c2-4add-af43-fc5aaa34d14f"
      },
      "execution_count": null,
      "outputs": [
        {
          "output_type": "stream",
          "name": "stdout",
          "text": [
            "Топ-10 языков программирования для каждого года (2010–2020):\n",
            "+----+-----------+--------+\n",
            "|Year|language   |mentions|\n",
            "+----+-----------+--------+\n",
            "|2010|java       |52      |\n",
            "|2010|php        |46      |\n",
            "|2010|javascript |44      |\n",
            "|2010|python     |26      |\n",
            "|2010|objective-c|23      |\n",
            "|2010|c          |20      |\n",
            "|2010|ruby       |12      |\n",
            "|2010|delphi     |8       |\n",
            "|2010|applescript|3       |\n",
            "|2010|r          |3       |\n",
            "|2011|php        |102     |\n",
            "|2011|java       |93      |\n",
            "|2011|javascript |83      |\n",
            "|2011|python     |37      |\n",
            "|2011|objective-c|34      |\n",
            "|2011|c          |24      |\n",
            "|2011|ruby       |20      |\n",
            "|2011|perl       |9       |\n",
            "|2011|delphi     |8       |\n",
            "|2011|bash       |7       |\n",
            "|2012|php        |154     |\n",
            "|2012|javascript |132     |\n",
            "|2012|java       |124     |\n",
            "|2012|python     |69      |\n",
            "|2012|objective-c|45      |\n",
            "|2012|ruby       |27      |\n",
            "|2012|c          |27      |\n",
            "|2012|bash       |10      |\n",
            "|2012|r          |9       |\n",
            "|2012|scala      |6       |\n",
            "|2013|php        |198     |\n",
            "|2013|javascript |198     |\n",
            "|2013|java       |194     |\n",
            "|2013|python     |90      |\n",
            "|2013|objective-c|40      |\n",
            "|2013|c          |36      |\n",
            "|2013|ruby       |32      |\n",
            "|2013|r          |26      |\n",
            "|2013|bash       |12      |\n",
            "|2013|scala      |11      |\n",
            "|2014|javascript |239     |\n",
            "|2014|java       |228     |\n",
            "|2014|php        |167     |\n",
            "|2014|python     |109     |\n",
            "|2014|objective-c|52      |\n",
            "|2014|c          |52      |\n",
            "|2014|r          |28      |\n",
            "|2014|ruby       |24      |\n",
            "|2014|bash       |17      |\n",
            "|2014|matlab     |17      |\n",
            "|2015|javascript |277     |\n",
            "|2015|java       |209     |\n",
            "|2015|php        |167     |\n",
            "|2015|python     |121     |\n",
            "|2015|r          |43      |\n",
            "|2015|c          |38      |\n",
            "|2015|objective-c|30      |\n",
            "|2015|ruby       |21      |\n",
            "|2015|matlab     |16      |\n",
            "|2015|scala      |15      |\n",
            "|2016|javascript |278     |\n",
            "|2016|java       |184     |\n",
            "|2016|php        |155     |\n",
            "|2016|python     |146     |\n",
            "|2016|r          |52      |\n",
            "|2016|c          |32      |\n",
            "|2016|ruby       |24      |\n",
            "|2016|bash       |18      |\n",
            "|2016|scala      |16      |\n",
            "|2016|matlab     |15      |\n",
            "|2017|javascript |246     |\n",
            "|2017|java       |204     |\n",
            "|2017|python     |193     |\n",
            "|2017|php        |138     |\n",
            "|2017|r          |56      |\n",
            "|2017|c          |25      |\n",
            "|2017|typescript |20      |\n",
            "|2017|objective-c|19      |\n",
            "|2017|ruby       |17      |\n",
            "|2017|powershell |14      |\n",
            "|2018|python     |220     |\n",
            "|2018|javascript |198     |\n",
            "|2018|java       |146     |\n",
            "|2018|php        |111     |\n",
            "|2018|r          |66      |\n",
            "|2018|typescript |27      |\n",
            "|2018|c          |24      |\n",
            "|2018|scala      |23      |\n",
            "|2018|powershell |13      |\n",
            "|2018|bash       |12      |\n",
            "|2019|python     |166     |\n",
            "|2019|javascript |135     |\n",
            "|2019|java       |95      |\n",
            "|2019|php        |65      |\n",
            "|2019|r          |37      |\n",
            "|2019|typescript |17      |\n",
            "|2019|c          |14      |\n",
            "|2019|bash       |11      |\n",
            "|2019|go         |9       |\n",
            "|2019|matlab     |9       |\n",
            "+----+-----------+--------+\n",
            "\n"
          ]
        }
      ]
    },
    {
      "cell_type": "code",
      "source": [
        "# 6. Сохранение результата с перезаписью\n",
        "result_df.write.mode(\"overwrite\").parquet(\"top_10_languages_by_year2.parquet\")\n",
        "print(\"Результат сохранён в top_10_languages_by_year2.parquet\")\n",
        "\n",
        "# Упаковка Parquet-директории в ZIP\n",
        "import shutil\n",
        "shutil.make_archive(\"top_10_languages_by_year2\", 'zip', \"top_10_languages_by_year2.parquet\")\n",
        "print(\"Parquet-директория упакована в top_10_languages_by_year2.zip\")\n",
        "\n",
        "# 7. Остановка SparkSession\n",
        "spark.stop()\n",
        "\n",
        "# Скачивание ZIP-архива\n",
        "from google.colab import files\n",
        "files.download('top_10_languages_by_year2.zip')"
      ],
      "metadata": {
        "colab": {
          "base_uri": "https://localhost:8080/",
          "height": 54
        },
        "id": "HIepqRVPJSxu",
        "outputId": "c43eb7df-c7c7-41a5-c585-f68f1afa05a8"
      },
      "execution_count": null,
      "outputs": [
        {
          "output_type": "stream",
          "name": "stdout",
          "text": [
            "Результат сохранён в top_10_languages_by_year2.parquet\n",
            "Parquet-директория упакована в top_10_languages_by_year2.zip\n"
          ]
        },
        {
          "output_type": "display_data",
          "data": {
            "text/plain": [
              "<IPython.core.display.Javascript object>"
            ],
            "application/javascript": [
              "\n",
              "    async function download(id, filename, size) {\n",
              "      if (!google.colab.kernel.accessAllowed) {\n",
              "        return;\n",
              "      }\n",
              "      const div = document.createElement('div');\n",
              "      const label = document.createElement('label');\n",
              "      label.textContent = `Downloading \"${filename}\": `;\n",
              "      div.appendChild(label);\n",
              "      const progress = document.createElement('progress');\n",
              "      progress.max = size;\n",
              "      div.appendChild(progress);\n",
              "      document.body.appendChild(div);\n",
              "\n",
              "      const buffers = [];\n",
              "      let downloaded = 0;\n",
              "\n",
              "      const channel = await google.colab.kernel.comms.open(id);\n",
              "      // Send a message to notify the kernel that we're ready.\n",
              "      channel.send({})\n",
              "\n",
              "      for await (const message of channel.messages) {\n",
              "        // Send a message to notify the kernel that we're ready.\n",
              "        channel.send({})\n",
              "        if (message.buffers) {\n",
              "          for (const buffer of message.buffers) {\n",
              "            buffers.push(buffer);\n",
              "            downloaded += buffer.byteLength;\n",
              "            progress.value = downloaded;\n",
              "          }\n",
              "        }\n",
              "      }\n",
              "      const blob = new Blob(buffers, {type: 'application/binary'});\n",
              "      const a = document.createElement('a');\n",
              "      a.href = window.URL.createObjectURL(blob);\n",
              "      a.download = filename;\n",
              "      div.appendChild(a);\n",
              "      a.click();\n",
              "      div.remove();\n",
              "    }\n",
              "  "
            ]
          },
          "metadata": {}
        },
        {
          "output_type": "display_data",
          "data": {
            "text/plain": [
              "<IPython.core.display.Javascript object>"
            ],
            "application/javascript": [
              "download(\"download_dc8f85bc-b271-4a67-b30b-b7842aaf2de3\", \"top_10_languages_by_year2.zip\", 1836)"
            ]
          },
          "metadata": {}
        }
      ]
    }
  ]
}