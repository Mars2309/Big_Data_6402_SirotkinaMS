{
  "nbformat": 4,
  "nbformat_minor": 0,
  "metadata": {
    "colab": {
      "provenance": []
    },
    "kernelspec": {
      "name": "python3",
      "display_name": "Python 3"
    }
  },
  "cells": [
    {
      "cell_type": "markdown",
      "metadata": {
        "id": "82OvPKEiEqjc"
      },
      "source": [
        "# Введение в MapReduce модель на Python\n"
      ]
    },
    {
      "cell_type": "code",
      "metadata": {
        "id": "JQ2cvXLjICmI"
      },
      "source": [
        "from typing import NamedTuple # requires python 3.6+\n",
        "from typing import Iterator"
      ],
      "execution_count": null,
      "outputs": []
    },
    {
      "cell_type": "code",
      "metadata": {
        "id": "yjPHumVwEyEg"
      },
      "source": [
        "def MAP(_, row:NamedTuple):\n",
        "  if (row.gender == 'female'):\n",
        "    yield (row.age, row)\n",
        "\n",
        "def REDUCE(age:str, rows:Iterator[NamedTuple]):\n",
        "  sum = 0\n",
        "  count = 0\n",
        "  for row in rows:\n",
        "    sum += row.social_contacts\n",
        "    count += 1\n",
        "  if (count > 0):\n",
        "    yield (age, sum/count)\n",
        "  else:\n",
        "    yield (age, 0)"
      ],
      "execution_count": null,
      "outputs": []
    },
    {
      "cell_type": "markdown",
      "metadata": {
        "id": "vBKMgpG_ilaZ"
      },
      "source": [
        "Модель элемента данных"
      ]
    },
    {
      "cell_type": "code",
      "metadata": {
        "id": "Rv-XIjhTJPx3"
      },
      "source": [
        "class User(NamedTuple):\n",
        "  id: int\n",
        "  age: str\n",
        "  social_contacts: int\n",
        "  gender: str"
      ],
      "execution_count": null,
      "outputs": []
    },
    {
      "cell_type": "code",
      "metadata": {
        "id": "5KV0Ze2vQgu5"
      },
      "source": [
        "input_collection = [\n",
        "    User(id=0, age=55, gender='male', social_contacts=20),\n",
        "    User(id=1, age=25, gender='female', social_contacts=240),\n",
        "    User(id=2, age=25, gender='female', social_contacts=500),\n",
        "    User(id=3, age=33, gender='female', social_contacts=800)\n",
        "]"
      ],
      "execution_count": null,
      "outputs": []
    },
    {
      "cell_type": "markdown",
      "metadata": {
        "id": "YFeqzyZxZIFZ"
      },
      "source": [
        "Функция RECORDREADER моделирует чтение элементов с диска или по сети."
      ]
    },
    {
      "cell_type": "code",
      "metadata": {
        "id": "S5HR4E_GQoMJ"
      },
      "source": [
        "def RECORDREADER():\n",
        "  return [(u.id, u) for u in input_collection]"
      ],
      "execution_count": null,
      "outputs": []
    },
    {
      "cell_type": "code",
      "metadata": {
        "id": "NeEoWla-ROUy",
        "colab": {
          "base_uri": "https://localhost:8080/"
        },
        "outputId": "d3cb2069-dae3-406b-a718-e47072b0df72"
      },
      "source": [
        "list(RECORDREADER())"
      ],
      "execution_count": null,
      "outputs": [
        {
          "output_type": "execute_result",
          "data": {
            "text/plain": [
              "[(0, User(id=0, age=55, social_contacts=20, gender='male')),\n",
              " (1, User(id=1, age=25, social_contacts=240, gender='female')),\n",
              " (2, User(id=2, age=25, social_contacts=500, gender='female')),\n",
              " (3, User(id=3, age=33, social_contacts=800, gender='female'))]"
            ]
          },
          "metadata": {},
          "execution_count": 11
        }
      ]
    },
    {
      "cell_type": "code",
      "metadata": {
        "id": "YB8orgPSZs8M"
      },
      "source": [
        "def flatten(nested_iterable):\n",
        "  for iterable in nested_iterable:\n",
        "    for element in iterable:\n",
        "      yield element"
      ],
      "execution_count": null,
      "outputs": []
    },
    {
      "cell_type": "code",
      "metadata": {
        "id": "74oyvDLaRmd5",
        "colab": {
          "base_uri": "https://localhost:8080/"
        },
        "outputId": "b85bc398-9ee4-4d52-8b7d-95a9fc98a938"
      },
      "source": [
        "map_output = flatten(map(lambda x: MAP(*x), RECORDREADER()))\n",
        "map_output = list(map_output) # materialize\n",
        "map_output"
      ],
      "execution_count": null,
      "outputs": [
        {
          "output_type": "execute_result",
          "data": {
            "text/plain": [
              "[(25, User(id=1, age=25, social_contacts=240, gender='female')),\n",
              " (25, User(id=2, age=25, social_contacts=500, gender='female')),\n",
              " (33, User(id=3, age=33, social_contacts=800, gender='female'))]"
            ]
          },
          "metadata": {},
          "execution_count": 13
        }
      ]
    },
    {
      "cell_type": "code",
      "metadata": {
        "id": "8ncYDJ3-VzDn"
      },
      "source": [
        "def groupbykey(iterable):\n",
        "  t = {}\n",
        "  for (k2, v2) in iterable:\n",
        "    t[k2] = t.get(k2, []) + [v2]\n",
        "  return t.items()"
      ],
      "execution_count": null,
      "outputs": []
    },
    {
      "cell_type": "code",
      "metadata": {
        "id": "cKzY_6COWOA2",
        "colab": {
          "base_uri": "https://localhost:8080/"
        },
        "outputId": "e2639878-5a20-43bf-9491-fdf0d495140f"
      },
      "source": [
        "shuffle_output = groupbykey(map_output)\n",
        "shuffle_output = list(shuffle_output)\n",
        "shuffle_output"
      ],
      "execution_count": null,
      "outputs": [
        {
          "output_type": "execute_result",
          "data": {
            "text/plain": [
              "[(25,\n",
              "  [User(id=1, age=25, social_contacts=240, gender='female'),\n",
              "   User(id=2, age=25, social_contacts=500, gender='female')]),\n",
              " (33, [User(id=3, age=33, social_contacts=800, gender='female')])]"
            ]
          },
          "metadata": {},
          "execution_count": 15
        }
      ]
    },
    {
      "cell_type": "code",
      "metadata": {
        "id": "NlA7lkDDYL0t",
        "colab": {
          "base_uri": "https://localhost:8080/"
        },
        "outputId": "8a0c1a5c-c1d8-44cb-c4a7-421e869a5059"
      },
      "source": [
        "reduce_output = flatten(map(lambda x: REDUCE(*x), shuffle_output))\n",
        "reduce_output = list(reduce_output)\n",
        "reduce_output"
      ],
      "execution_count": null,
      "outputs": [
        {
          "output_type": "execute_result",
          "data": {
            "text/plain": [
              "[(25, 370.0), (33, 800.0)]"
            ]
          },
          "metadata": {},
          "execution_count": 16
        }
      ]
    },
    {
      "cell_type": "markdown",
      "metadata": {
        "id": "xf6qhHEtd6bI"
      },
      "source": [
        "Все действия одним конвейером!"
      ]
    },
    {
      "cell_type": "code",
      "metadata": {
        "id": "dZaQGYxCdpw5",
        "colab": {
          "base_uri": "https://localhost:8080/"
        },
        "outputId": "0c2a296d-f56e-4ec3-f329-a6c21b4bec60"
      },
      "source": [
        "list(flatten(map(lambda x: REDUCE(*x), groupbykey(flatten(map(lambda x: MAP(*x), RECORDREADER()))))))"
      ],
      "execution_count": null,
      "outputs": [
        {
          "output_type": "execute_result",
          "data": {
            "text/plain": [
              "[(25, 370.0), (33, 800.0)]"
            ]
          },
          "metadata": {},
          "execution_count": 17
        }
      ]
    },
    {
      "cell_type": "markdown",
      "metadata": {
        "id": "Vq3EWRIpwSiJ"
      },
      "source": [
        "# **MapReduce**\n",
        "Выделим общую для всех пользователей часть системы в отдельную функцию высшего порядка. Это наиболее простая модель MapReduce, без учёта распределённого хранения данных.\n",
        "\n",
        "Пользователь для решения своей задачи реализует RECORDREADER, MAP, REDUCE."
      ]
    },
    {
      "cell_type": "code",
      "metadata": {
        "id": "V1PZeQMwwVjc"
      },
      "source": [
        "def flatten(nested_iterable):\n",
        "  for iterable in nested_iterable:\n",
        "    for element in iterable:\n",
        "      yield element\n",
        "\n",
        "def groupbykey(iterable):\n",
        "  t = {}\n",
        "  for (k2, v2) in iterable:\n",
        "    t[k2] = t.get(k2, []) + [v2]\n",
        "  return t.items()\n",
        "\n",
        "def MapReduce(RECORDREADER, MAP, REDUCE):\n",
        "  return flatten(map(lambda x: REDUCE(*x), groupbykey(flatten(map(lambda x: MAP(*x), RECORDREADER())))))"
      ],
      "execution_count": null,
      "outputs": []
    },
    {
      "cell_type": "markdown",
      "metadata": {
        "id": "iFIVrimep678"
      },
      "source": [
        "## Спецификация MapReduce\n",
        "\n",
        "\n",
        "\n",
        "```\n",
        "f (k1, v1) -> (k2,v2)*\n",
        "g (k2, v2*) -> (k3,v3)*\n",
        "\n",
        "mapreduce ((k1,v1)*) -> (k3,v3)*\n",
        "groupby ((k2,v2)*) -> (k2,v2*)*\n",
        "flatten (e2**) -> e2*\n",
        "\n",
        "mapreduce .map(f).flatten.groupby(k2).map(g).flatten\n",
        "```\n",
        "\n",
        "\n"
      ]
    },
    {
      "cell_type": "markdown",
      "metadata": {
        "id": "QtTFyqke3KGe"
      },
      "source": [
        "# Примеры"
      ]
    },
    {
      "cell_type": "markdown",
      "metadata": {
        "id": "BNhh5763w5Vn"
      },
      "source": [
        "## SQL"
      ]
    },
    {
      "cell_type": "code",
      "metadata": {
        "id": "QkyurnvGxBGk",
        "colab": {
          "base_uri": "https://localhost:8080/"
        },
        "outputId": "f3e90397-c734-4639-8d92-9b50e2686edc"
      },
      "source": [
        "from typing import NamedTuple # requires python 3.6+\n",
        "from typing import Iterator\n",
        "\n",
        "class User(NamedTuple):\n",
        "  id: int\n",
        "  age: str\n",
        "  social_contacts: int\n",
        "  gender: str\n",
        "\n",
        "input_collection = [\n",
        "    User(id=0, age=55, gender='male', social_contacts=20),\n",
        "    User(id=1, age=25, gender='female', social_contacts=240),\n",
        "    User(id=2, age=25, gender='female', social_contacts=500),\n",
        "    User(id=3, age=33, gender='female', social_contacts=800)\n",
        "]\n",
        "\n",
        "def MAP(_, row:NamedTuple):\n",
        "  if (row.gender == 'female'):\n",
        "    yield (row.age, row)\n",
        "\n",
        "def REDUCE(age:str, rows:Iterator[NamedTuple]):\n",
        "  sum = 0\n",
        "  count = 0\n",
        "  for row in rows:\n",
        "    sum += row.social_contacts\n",
        "    count += 1\n",
        "  if (count > 0):\n",
        "    yield (age, sum/count)\n",
        "  else:\n",
        "    yield (age, 0)\n",
        "\n",
        "def RECORDREADER():\n",
        "  return [(u.id, u) for u in input_collection]\n",
        "\n",
        "output = MapReduce(RECORDREADER, MAP, REDUCE)\n",
        "output = list(output)\n",
        "output"
      ],
      "execution_count": null,
      "outputs": [
        {
          "output_type": "execute_result",
          "data": {
            "text/plain": [
              "[(25, 370.0), (33, 800.0)]"
            ]
          },
          "metadata": {},
          "execution_count": 19
        }
      ]
    },
    {
      "cell_type": "markdown",
      "metadata": {
        "id": "kNKYIeerx0nY"
      },
      "source": [
        "## Matrix-Vector multiplication"
      ]
    },
    {
      "cell_type": "code",
      "metadata": {
        "id": "rwcntRcCyi1V",
        "colab": {
          "base_uri": "https://localhost:8080/"
        },
        "outputId": "02460430-6909-46be-81e0-d7f33530b7a9"
      },
      "source": [
        "from typing import Iterator\n",
        "import numpy as np\n",
        "\n",
        "mat = np.ones((5,4))\n",
        "vec = np.random.rand(4) # in-memory vector in all map tasks\n",
        "\n",
        "def MAP(coordinates:(int, int), value:int):\n",
        "  i, j = coordinates\n",
        "  yield (i, value*vec[j])\n",
        "\n",
        "def REDUCE(i:int, products:Iterator[NamedTuple]):\n",
        "  sum = 0\n",
        "  for p in products:\n",
        "    sum += p\n",
        "  yield (i, sum)\n",
        "\n",
        "def RECORDREADER():\n",
        "  for i in range(mat.shape[0]):\n",
        "    for j in range(mat.shape[1]):\n",
        "      yield ((i, j), mat[i,j])\n",
        "\n",
        "output = MapReduce(RECORDREADER, MAP, REDUCE)\n",
        "output = list(output)\n",
        "output"
      ],
      "execution_count": null,
      "outputs": [
        {
          "output_type": "execute_result",
          "data": {
            "text/plain": [
              "[(0, 1.3129998275024488),\n",
              " (1, 1.3129998275024488),\n",
              " (2, 1.3129998275024488),\n",
              " (3, 1.3129998275024488),\n",
              " (4, 1.3129998275024488)]"
            ]
          },
          "metadata": {},
          "execution_count": 20
        }
      ]
    },
    {
      "cell_type": "markdown",
      "metadata": {
        "id": "ruZREYdi2o4O"
      },
      "source": [
        "## Inverted index"
      ]
    },
    {
      "cell_type": "code",
      "metadata": {
        "id": "vt9H9Alf3TYv",
        "colab": {
          "base_uri": "https://localhost:8080/"
        },
        "outputId": "ff00a61b-baa3-440e-ab01-2f90e46073d4"
      },
      "source": [
        "from typing import Iterator\n",
        "\n",
        "d1 = \"it is what it is\"\n",
        "d2 = \"what is it\"\n",
        "d3 = \"it is a banana\"\n",
        "documents = [d1, d2, d3]\n",
        "\n",
        "def RECORDREADER():\n",
        "  for (docid, document) in enumerate(documents):\n",
        "    yield (\"{}\".format(docid), document)\n",
        "\n",
        "def MAP(docId:str, body:str):\n",
        "  for word in set(body.split(' ')):\n",
        "    yield (word, docId)\n",
        "\n",
        "def REDUCE(word:str, docIds:Iterator[str]):\n",
        "  yield (word, sorted(docIds))\n",
        "\n",
        "output = MapReduce(RECORDREADER, MAP, REDUCE)\n",
        "output = list(output)\n",
        "output"
      ],
      "execution_count": null,
      "outputs": [
        {
          "output_type": "execute_result",
          "data": {
            "text/plain": [
              "[('is', ['0', '1', '2']),\n",
              " ('what', ['0', '1']),\n",
              " ('it', ['0', '1', '2']),\n",
              " ('a', ['2']),\n",
              " ('banana', ['2'])]"
            ]
          },
          "metadata": {},
          "execution_count": 21
        }
      ]
    },
    {
      "cell_type": "markdown",
      "metadata": {
        "id": "R7az-6DA6qr2"
      },
      "source": [
        "## WordCount"
      ]
    },
    {
      "cell_type": "code",
      "metadata": {
        "id": "dN-nbtgG6uYG",
        "colab": {
          "base_uri": "https://localhost:8080/"
        },
        "outputId": "e3f08771-3c48-4f72-8ec0-80261e673964"
      },
      "source": [
        "from typing import Iterator\n",
        "\n",
        "d1 = \"\"\"\n",
        "it is what it is\n",
        "it is what it is\n",
        "it is what it is\"\"\"\n",
        "d2 = \"\"\"\n",
        "what is it\n",
        "what is it\"\"\"\n",
        "d3 = \"\"\"\n",
        "it is a banana\"\"\"\n",
        "documents = [d1, d2, d3]\n",
        "\n",
        "def RECORDREADER():\n",
        "  for (docid, document) in enumerate(documents):\n",
        "    for (lineid, line) in enumerate(document.split('\\n')):\n",
        "      yield (\"{}:{}\".format(docid,lineid), line)\n",
        "\n",
        "def MAP(docId:str, line:str):\n",
        "  for word in line.split(\" \"):\n",
        "    yield (word, 1)\n",
        "\n",
        "def REDUCE(word:str, counts:Iterator[int]):\n",
        "  sum = 0\n",
        "  for c in counts:\n",
        "    sum += c\n",
        "  yield (word, sum)\n",
        "\n",
        "output = MapReduce(RECORDREADER, MAP, REDUCE)\n",
        "output = list(output)\n",
        "output"
      ],
      "execution_count": null,
      "outputs": [
        {
          "output_type": "execute_result",
          "data": {
            "text/plain": [
              "[('', 3), ('it', 9), ('is', 9), ('what', 5), ('a', 1), ('banana', 1)]"
            ]
          },
          "metadata": {},
          "execution_count": 22
        }
      ]
    },
    {
      "cell_type": "markdown",
      "metadata": {
        "id": "h-jRAcYCAkkk"
      },
      "source": [
        "# MapReduce Distributed\n",
        "\n",
        "Добавляется в модель фабрика RECORDREARER-ов --- INPUTFORMAT, функция распределения промежуточных результатов по партициям PARTITIONER, и функция COMBINER для частичной аггрегации промежуточных результатов до распределения по новым партициям."
      ]
    },
    {
      "cell_type": "code",
      "metadata": {
        "id": "nw-b-xJsApgW"
      },
      "source": [
        "def flatten(nested_iterable):\n",
        "  for iterable in nested_iterable:\n",
        "    for element in iterable:\n",
        "      yield element\n",
        "\n",
        "def groupbykey(iterable):\n",
        "  t = {}\n",
        "  for (k2, v2) in iterable:\n",
        "    t[k2] = t.get(k2, []) + [v2]\n",
        "  return t.items()\n",
        "\n",
        "def groupbykey_distributed(map_partitions, PARTITIONER):\n",
        "  global reducers\n",
        "  partitions = [dict() for _ in range(reducers)]\n",
        "  for map_partition in map_partitions:\n",
        "    for (k2, v2) in map_partition:\n",
        "      p = partitions[PARTITIONER(k2)]\n",
        "      p[k2] = p.get(k2, []) + [v2]\n",
        "  return [(partition_id, sorted(partition.items(), key=lambda x: x[0])) for (partition_id, partition) in enumerate(partitions)]\n",
        "\n",
        "def PARTITIONER(obj):\n",
        "  global reducers\n",
        "  return hash(obj) % reducers\n",
        "\n",
        "def MapReduceDistributed(INPUTFORMAT, MAP, REDUCE, PARTITIONER=PARTITIONER, COMBINER=None):\n",
        "  map_partitions = map(lambda record_reader: flatten(map(lambda k1v1: MAP(*k1v1), record_reader)), INPUTFORMAT())\n",
        "  if COMBINER != None:\n",
        "    map_partitions = map(lambda map_partition: flatten(map(lambda k2v2: COMBINER(*k2v2), groupbykey(map_partition))), map_partitions)\n",
        "  reduce_partitions = groupbykey_distributed(map_partitions, PARTITIONER) # shuffle\n",
        "  reduce_outputs = map(lambda reduce_partition: (reduce_partition[0], flatten(map(lambda reduce_input_group: REDUCE(*reduce_input_group), reduce_partition[1]))), reduce_partitions)\n",
        "\n",
        "  print(\"{} key-value pairs were sent over a network.\".format(sum([len(vs) for (k,vs) in flatten([partition for (partition_id, partition) in reduce_partitions])])))\n",
        "  return reduce_outputs"
      ],
      "execution_count": null,
      "outputs": []
    },
    {
      "cell_type": "markdown",
      "metadata": {
        "id": "kxirlf3XqZxY"
      },
      "source": [
        "## Спецификация MapReduce Distributed\n",
        "\n",
        "\n",
        "```\n",
        "f (k1, v1) -> (k2,v2)*\n",
        "g (k2, v2*) -> (k3,v3)*\n",
        "\n",
        "e1 (k1, v1)\n",
        "e2 (k2, v2)\n",
        "partition1 (k2, v2)*\n",
        "partition2 (k2, v2*)*\n",
        "\n",
        "flatmap (e1->e2*, e1*) -> partition1*\n",
        "groupby (partition1*) -> partition2*\n",
        "\n",
        "mapreduce ((k1,v1)*) -> (k3,v3)*\n",
        "mapreduce .flatmap(f).groupby(k2).flatmap(g)\n",
        "```\n",
        "\n"
      ]
    },
    {
      "cell_type": "markdown",
      "metadata": {
        "id": "CWYw_CpbbY3C"
      },
      "source": [
        "## WordCount"
      ]
    },
    {
      "cell_type": "code",
      "metadata": {
        "id": "uR_zfGFkMZlp",
        "colab": {
          "base_uri": "https://localhost:8080/"
        },
        "outputId": "f163e58e-b85f-4e2a-cc80-f471890a117b"
      },
      "source": [
        "from typing import Iterator\n",
        "import numpy as np\n",
        "\n",
        "d1 = \"\"\"\n",
        "it is what it is\n",
        "it is what it is\n",
        "it is what it is\"\"\"\n",
        "d2 = \"\"\"\n",
        "what is it\n",
        "what is it\"\"\"\n",
        "d3 = \"\"\"\n",
        "it is a banana\"\"\"\n",
        "documents = [d1, d2, d3, d1, d2, d3]\n",
        "\n",
        "maps = 3\n",
        "reducers = 2\n",
        "\n",
        "def INPUTFORMAT():\n",
        "  global maps\n",
        "\n",
        "  def RECORDREADER(split):\n",
        "    for (docid, document) in enumerate(split):\n",
        "      for (lineid, line) in enumerate(document.split('\\n')):\n",
        "        yield (\"{}:{}\".format(docid,lineid), line)\n",
        "\n",
        "  split_size =  int(np.ceil(len(documents)/maps))\n",
        "  for i in range(0, len(documents), split_size):\n",
        "    yield RECORDREADER(documents[i:i+split_size])\n",
        "\n",
        "def MAP(docId:str, line:str):\n",
        "  for word in line.split(\" \"):\n",
        "    yield (word, 1)\n",
        "\n",
        "def REDUCE(word:str, counts:Iterator[int]):\n",
        "  sum = 0\n",
        "  for c in counts:\n",
        "    sum += c\n",
        "  yield (word, sum)\n",
        "\n",
        "# try to set COMBINER=REDUCER and look at the number of values sent over the network\n",
        "partitioned_output = MapReduceDistributed(INPUTFORMAT, MAP, REDUCE, COMBINER=None)\n",
        "partitioned_output = [(partition_id, list(partition)) for (partition_id, partition) in partitioned_output]\n",
        "partitioned_output"
      ],
      "execution_count": null,
      "outputs": [
        {
          "output_type": "stream",
          "name": "stdout",
          "text": [
            "56 key-value pairs were sent over a network.\n"
          ]
        },
        {
          "output_type": "execute_result",
          "data": {
            "text/plain": [
              "[(0, [('', 6), ('a', 2), ('banana', 2), ('what', 10)]),\n",
              " (1, [('is', 18), ('it', 18)])]"
            ]
          },
          "metadata": {},
          "execution_count": 24
        }
      ]
    },
    {
      "cell_type": "markdown",
      "metadata": {
        "id": "gCJGx8IQ87xS"
      },
      "source": [
        "## TeraSort"
      ]
    },
    {
      "cell_type": "code",
      "metadata": {
        "id": "P2v8v1v_8_YR",
        "colab": {
          "base_uri": "https://localhost:8080/"
        },
        "outputId": "80092d47-f1b5-4eb4-8b36-82e46f0083c7"
      },
      "source": [
        "import numpy as np\n",
        "\n",
        "input_values = np.random.rand(30)\n",
        "maps = 3\n",
        "reducers = 2\n",
        "min_value = 0.0\n",
        "max_value = 1.0\n",
        "\n",
        "def INPUTFORMAT():\n",
        "  global maps\n",
        "\n",
        "  def RECORDREADER(split):\n",
        "    for value in split:\n",
        "        yield (value, None)\n",
        "\n",
        "  split_size =  int(np.ceil(len(input_values)/maps))\n",
        "  for i in range(0, len(input_values), split_size):\n",
        "    yield RECORDREADER(input_values[i:i+split_size])\n",
        "\n",
        "def MAP(value:int, _):\n",
        "  yield (value, None)\n",
        "\n",
        "def PARTITIONER(key):\n",
        "  global reducers\n",
        "  global max_value\n",
        "  global min_value\n",
        "  bucket_size = (max_value-min_value)/reducers\n",
        "  bucket_id = 0\n",
        "  while((key>(bucket_id+1)*bucket_size) and ((bucket_id+1)*bucket_size<max_value)):\n",
        "    bucket_id += 1\n",
        "  return bucket_id\n",
        "\n",
        "def REDUCE(value:int, _):\n",
        "  yield (None,value)\n",
        "\n",
        "partitioned_output = MapReduceDistributed(INPUTFORMAT, MAP, REDUCE, COMBINER=None, PARTITIONER=PARTITIONER)\n",
        "partitioned_output = [(partition_id, list(partition)) for (partition_id, partition) in partitioned_output]\n",
        "partitioned_output"
      ],
      "execution_count": null,
      "outputs": [
        {
          "output_type": "stream",
          "name": "stdout",
          "text": [
            "30 key-value pairs were sent over a network.\n"
          ]
        },
        {
          "output_type": "execute_result",
          "data": {
            "text/plain": [
              "[(0,\n",
              "  [(None, 0.027043536525846346),\n",
              "   (None, 0.031550205162345524),\n",
              "   (None, 0.03301519833156441),\n",
              "   (None, 0.060173015101643634),\n",
              "   (None, 0.10072221693269612),\n",
              "   (None, 0.10389517401411474),\n",
              "   (None, 0.12211864567257102),\n",
              "   (None, 0.15435472844083908),\n",
              "   (None, 0.22169500318402546),\n",
              "   (None, 0.2724300124028082),\n",
              "   (None, 0.305485386743935),\n",
              "   (None, 0.30823738760307473),\n",
              "   (None, 0.33444599398857844),\n",
              "   (None, 0.3652540036120818),\n",
              "   (None, 0.3653169892589593),\n",
              "   (None, 0.39742823002738714),\n",
              "   (None, 0.4403620113019441),\n",
              "   (None, 0.4631432820728105),\n",
              "   (None, 0.4659703134759545)]),\n",
              " (1,\n",
              "  [(None, 0.5469742053569722),\n",
              "   (None, 0.6310485979498993),\n",
              "   (None, 0.6331201098213773),\n",
              "   (None, 0.7244314502374273),\n",
              "   (None, 0.8338466332244877),\n",
              "   (None, 0.8419214097544389),\n",
              "   (None, 0.8548277759561446),\n",
              "   (None, 0.9032025035878632),\n",
              "   (None, 0.9607144447103095),\n",
              "   (None, 0.962841832518602),\n",
              "   (None, 0.9639480436948871)])]"
            ]
          },
          "metadata": {},
          "execution_count": 25
        }
      ]
    },
    {
      "cell_type": "code",
      "metadata": {
        "id": "MQhoJaVZI93G"
      },
      "source": [],
      "execution_count": null,
      "outputs": []
    },
    {
      "cell_type": "markdown",
      "metadata": {
        "id": "Iy65YJTH99iT"
      },
      "source": [
        "# Упражнения\n",
        "Упражнения взяты из Rajaraman A., Ullman J. D. Mining of massive datasets. – Cambridge University Press, 2011.\n",
        "\n",
        "\n",
        "Для выполнения заданий переопределите функции RECORDREADER, MAP, REDUCE. Для модели распределённой системы может потребоваться переопределение функций PARTITION и COMBINER."
      ]
    },
    {
      "cell_type": "markdown",
      "metadata": {
        "id": "cfvAeZm3S8S8"
      },
      "source": [
        "### Максимальное значение ряда\n",
        "\n",
        "Разработайте MapReduce алгоритм, который находит максимальное число входного списка чисел."
      ]
    },
    {
      "cell_type": "code",
      "metadata": {
        "id": "3GRA1JR-Tkbg",
        "colab": {
          "base_uri": "https://localhost:8080/"
        },
        "outputId": "24b4b831-573a-41b8-fdfe-2dc22e35f85e"
      },
      "source": [
        "from typing import List, Tuple\n",
        "import numpy as np\n",
        "\n",
        "import random\n",
        "from functools import reduce\n",
        "\n",
        "\n",
        "# Функция RECORDREADER для генерации случайных чисел в заданном диапазоне\n",
        "def RECORDREADER(count):\n",
        "    return [random.randint(0, 100) for _ in range(count)]\n",
        "\n",
        "# Генерация списка случайных чисел\n",
        "record = RECORDREADER(15)\n",
        "print(record)\n",
        "\n",
        "# Генерация списка случайных чисел\n",
        "record = RECORDREADER(15)\n",
        "print(record)\n",
        "\n",
        "\n",
        "# MAP: Каждое число получает ключ \"max\".\n",
        "def map_max(numbers: List[int]) -> List[Tuple[str, int]]:\n",
        "    return [(\"max\", num) for num in numbers]\n",
        "\n",
        "# REDUCE: Выбирает наибольшее из всех значений.\n",
        "def reduce_max(mapped_values: List[Tuple[str, int]]) -> Tuple[str, int]:\n",
        "    max_value = max(value for key, value in mapped_values)\n",
        "    return (\"max\", max_value)\n",
        "\n",
        "# Запуск MapReduce\n",
        "mapped = map_max(record)\n",
        "result = reduce_max(mapped)\n",
        "print(result)\n",
        "\n"
      ],
      "execution_count": null,
      "outputs": [
        {
          "output_type": "stream",
          "name": "stdout",
          "text": [
            "[18, 37, 57, 10, 81, 11, 40, 50, 76, 85, 99, 67, 0, 87, 18]\n",
            "[0, 10, 94, 72, 34, 33, 88, 37, 95, 41, 76, 30, 78, 62, 2]\n",
            "('max', 95)\n"
          ]
        }
      ]
    },
    {
      "cell_type": "markdown",
      "metadata": {
        "id": "k86bXnqZTk-U"
      },
      "source": [
        "### Арифметическое среднее\n",
        "\n",
        "Разработайте MapReduce алгоритм, который находит арифметическое среднее.\n",
        "\n",
        "$$\\overline{X} = \\frac{1}{n}\\sum_{i=0}^{n} x_i$$\n"
      ]
    },
    {
      "cell_type": "code",
      "metadata": {
        "id": "MPoY5pkfUNZf",
        "colab": {
          "base_uri": "https://localhost:8080/"
        },
        "outputId": "4a3b1d29-dfae-42fa-ea12-54f476c55cca"
      },
      "source": [
        "# Функция RECORDREADER для генерации случайных чисел в заданном диапазоне\n",
        "def RECORDREADER(count):\n",
        "    return [random.randint(0, 100) for _ in range(count)]\n",
        "\n",
        "def MAP(value: int) -> Iterator[Tuple[str, Tuple[int, int]]]:\n",
        "    \"\"\"Передаёт каждое число с ключом 'sum_count'.\"\"\"\n",
        "    yield (\"sum_count\", (value, 1))\n",
        "\n",
        "\n",
        "def REDUCE(key: str, values: Iterator[Tuple[int, int]]) -> Iterator[Tuple[str, float]]:\n",
        "    \"\"\"Вычисляет среднее значение.\"\"\"\n",
        "    total_sum, total_count = 0, 0\n",
        "    for val, count in values:\n",
        "        total_sum += val\n",
        "        total_count += count\n",
        "    yield (key, total_sum / total_count if total_count else 0)\n",
        "\n",
        "# Пример выполнения\n",
        "data = RECORDREADER(10)\n",
        "mapped = (pair for value in data for pair in MAP(value))\n",
        "grouped = {\"sum_count\": [(val, cnt) for _, (val, cnt) in mapped]}\n",
        "result = list(REDUCE(\"sum_count\", iter(grouped[\"sum_count\"])))\n",
        "print(data)\n",
        "print(result)  # [('sum_count', <среднее значение>)]\n"
      ],
      "execution_count": null,
      "outputs": [
        {
          "output_type": "stream",
          "name": "stdout",
          "text": [
            "[78, 62, 91, 74, 93, 38, 74, 91, 60, 16]\n",
            "[('sum_count', 67.7)]\n"
          ]
        }
      ]
    },
    {
      "cell_type": "markdown",
      "metadata": {
        "id": "xanzszhsIlLe"
      },
      "source": [
        "### GroupByKey на основе сортировки\n",
        "\n",
        "Реализуйте groupByKey на основе сортировки, проверьте его работу на примерах"
      ]
    },
    {
      "cell_type": "code",
      "metadata": {
        "id": "hQPn3USsIkEC",
        "colab": {
          "base_uri": "https://localhost:8080/"
        },
        "outputId": "595a4055-a716-4dd7-c634-34051834738e"
      },
      "source": [
        "def RECORDREADER(size: int) -> Iterator[Tuple[str, int]]:\n",
        "    \"\"\"Генерирует случайные пары (ключ, число).\"\"\"\n",
        "    keys = [\"A\", \"B\", \"C\", \"D\"]\n",
        "    data = [(random.choice(keys), random.randint(1, 100)) for _ in range(size)]\n",
        "    for item in data:\n",
        "        print('input ', item)\n",
        "        yield item\n",
        "\n",
        "\n",
        "def MAP(pair: Tuple[str, int]) -> Iterator[Tuple[str, int]]:\n",
        "    \"\"\"Пропускает данные без изменений.\"\"\"\n",
        "    yield pair\n",
        "\n",
        "def REDUCE(key: str, values: Iterator[int]) -> Iterator[Tuple[str, List[int]]]:\n",
        "    \"\"\"Группирует значения по ключу с сортировкой.\"\"\"\n",
        "    yield (key, sorted(values))\n",
        "\n",
        "# Пример выполнения 1\n",
        "data = RECORDREADER(10) # Генерация 10 чисел\n",
        "\n",
        "mapped = (pair for value in data for pair in MAP(value))\n",
        "grouped = {}\n",
        "for k, v in mapped:\n",
        "    grouped.setdefault(k, []).append(v)\n",
        "result = sorted([item for key, values in grouped.items() for item in REDUCE(key, iter(values))])\n",
        "print('result 1', result)  # [('A', [...]), ('B', [...]), ('C', [...])]\n",
        "\n",
        "print('------------------------')\n",
        "\n",
        "#Пример выполнения 2\n",
        "data = RECORDREADER(15) # Генерация 10 чисел\n",
        "mapped = (pair for value in data for pair in MAP(value))\n",
        "grouped = {}\n",
        "for k, v in mapped:\n",
        "    grouped.setdefault(k, []).append(v)\n",
        "result = sorted([item for key, values in grouped.items() for item in REDUCE(key, iter(values))])\n",
        "print('result 2', result)  # [('A', [...]), ('B', [...]), ('C', [...])]\n"
      ],
      "execution_count": null,
      "outputs": [
        {
          "output_type": "stream",
          "name": "stdout",
          "text": [
            "input  ('B', 64)\n",
            "input  ('A', 93)\n",
            "input  ('C', 46)\n",
            "input  ('C', 51)\n",
            "input  ('B', 62)\n",
            "input  ('C', 29)\n",
            "input  ('A', 90)\n",
            "input  ('D', 37)\n",
            "input  ('A', 68)\n",
            "input  ('A', 87)\n",
            "result 1 [('A', [68, 87, 90, 93]), ('B', [62, 64]), ('C', [29, 46, 51]), ('D', [37])]\n",
            "------------------------\n",
            "input  ('A', 47)\n",
            "input  ('C', 3)\n",
            "input  ('C', 18)\n",
            "input  ('A', 49)\n",
            "input  ('B', 62)\n",
            "input  ('B', 54)\n",
            "input  ('A', 46)\n",
            "input  ('C', 26)\n",
            "input  ('A', 1)\n",
            "input  ('B', 11)\n",
            "input  ('D', 100)\n",
            "input  ('A', 87)\n",
            "input  ('A', 25)\n",
            "input  ('D', 70)\n",
            "input  ('D', 52)\n",
            "result 2 [('A', [1, 25, 46, 47, 49, 87]), ('B', [11, 54, 62]), ('C', [3, 18, 26]), ('D', [52, 70, 100])]\n"
          ]
        }
      ]
    },
    {
      "cell_type": "markdown",
      "metadata": {
        "id": "5SgEjCZyGnu6"
      },
      "source": [
        "### Drop duplicates (set construction, unique elements, distinct)\n",
        "\n",
        "Реализуйте распределённую операцию исключения дубликатов"
      ]
    },
    {
      "cell_type": "code",
      "metadata": {
        "id": "okjbyApjGhMt",
        "colab": {
          "base_uri": "https://localhost:8080/"
        },
        "outputId": "244b6d21-8cb5-4ecd-ed43-d98bd5aaa756"
      },
      "source": [
        "def RECORDREADER(size: int, min_val: int = 0, max_val: int = 100) -> Iterator[int]:\n",
        "    \"\"\"Генерирует случайный список чисел.\"\"\"\n",
        "    data = [random.randint(min_val, max_val) for _ in range(size)]\n",
        "    for num in data:\n",
        "        print('generated val ', num)\n",
        "        yield num\n",
        "\n",
        "\n",
        "\n",
        "def MAP(value: int) -> Iterator[Tuple[int, None]]:\n",
        "    \"\"\"Отмечает каждое число как встреченное.\"\"\"\n",
        "    yield (value, None)\n",
        "\n",
        "\n",
        "def REDUCE(key: int, _: Iterator[None]) -> Iterator[int]:\n",
        "    \"\"\"Выдаёт уникальные ключи.\"\"\"\n",
        "    yield key\n",
        "\n",
        "# Пример выполнения\n",
        "data = RECORDREADER(15, 1, 10)  # Генерация 15-ти чисел от 1 до 10 (чтобы были дубликаты)\n",
        "mapped = (pair for value in data for pair in MAP(value))\n",
        "grouped = {k: None for k, _ in mapped}  # Убираем дубликаты\n",
        "print(' ----- ')\n",
        "result = sorted(k for k in grouped)\n",
        "print(\"Unique values:\", result)\n"
      ],
      "execution_count": null,
      "outputs": [
        {
          "output_type": "stream",
          "name": "stdout",
          "text": [
            "generated val  9\n",
            "generated val  4\n",
            "generated val  7\n",
            "generated val  8\n",
            "generated val  2\n",
            "generated val  8\n",
            "generated val  1\n",
            "generated val  10\n",
            "generated val  2\n",
            "generated val  3\n",
            "generated val  5\n",
            "generated val  6\n",
            "generated val  9\n",
            "generated val  1\n",
            "generated val  5\n",
            " ----- \n",
            "Unique values: [1, 2, 3, 4, 5, 6, 7, 8, 9, 10]\n"
          ]
        }
      ]
    },
    {
      "cell_type": "markdown",
      "metadata": {
        "id": "e7sRGoTXuJze"
      },
      "source": [
        "#Операторы реляционной алгебры\n",
        "### Selection (Выборка)\n",
        "\n",
        "**The Map Function**: Для  каждого кортежа $t \\in R$ вычисляется истинность предиката $C$. В случае истины создаётся пара ключ-значение $(t, t)$. В паре ключ и значение одинаковы, равны $t$.\n",
        "\n",
        "**The Reduce Function:** Роль функции Reduce выполняет функция идентичности, которая возвращает то же значение, что получила на вход.\n",
        "\n"
      ]
    },
    {
      "cell_type": "code",
      "metadata": {
        "id": "4nKIKe59uIfc",
        "colab": {
          "base_uri": "https://localhost:8080/"
        },
        "outputId": "f6c56141-41ca-411e-cafd-26c991c86262"
      },
      "source": [
        "from collections import defaultdict\n",
        "\n",
        "# Функция для фильтрации по предикату C\n",
        "def MAP_selection(el_list, predicate):\n",
        "    mapped_result = []\n",
        "    for t in el_list:\n",
        "        if predicate(t):  # Применение предиката\n",
        "            mapped_result.append((t, t))  # Кортеж (t, t), если предикат верен\n",
        "    return mapped_result\n",
        "\n",
        "# Функция Reduce, которая возвращает исходный кортеж\n",
        "def REDUCE_selection(mapped_items):\n",
        "    return [key for key, _ in mapped_items]  # Просто возвращаем ключи (они равны значениям)\n",
        "\n",
        "# Предикат для выборки (например, проверка на четность первого элемента)\n",
        "def C(t):\n",
        "    return t[0] % 2 == 0  # Проверка, что первый элемент четный\n",
        "\n",
        "# Генерация данных\n",
        "def RECORDREADER(count):\n",
        "    return [(random.randint(0, 100), random.randint(0, 100)) for _ in range(count)]\n",
        "\n",
        "# Пример использования\n",
        "data = RECORDREADER(10)\n",
        "mapped = MAP_selection(data, C)  # Применяем MAP, чтобы оставить только те кортежи, где первый элемент четный\n",
        "result = REDUCE_selection(mapped)  # Переходим к REDUCE, где просто выводим все подходящие кортежи\n",
        "print(result)\n"
      ],
      "execution_count": null,
      "outputs": [
        {
          "output_type": "stream",
          "name": "stdout",
          "text": [
            "[(20, 83), (78, 34), (48, 1), (74, 78), (48, 78)]\n"
          ]
        }
      ]
    },
    {
      "cell_type": "markdown",
      "metadata": {
        "id": "w27Ca-_Ku85V"
      },
      "source": [
        "### Projection (Проекция)\n",
        "\n",
        "Проекция на множество атрибутов $S$.\n",
        "\n",
        "**The Map Function:** Для каждого кортежа $t \\in R$ создайте кортеж $t′$, исключая  из $t$ те значения, атрибуты которых не принадлежат  $S$. Верните пару $(t′, t′)$.\n",
        "\n",
        "**The Reduce Function:** Для каждого ключа $t′$, созданного любой Map задачей, вы получаете одну или несколько пар $(t′, t′)$. Reduce функция преобразует $(t′, [t′, t′, . . . , t′])$ в $(t′, t′)$, так, что для ключа $t′$ возвращается одна пара  $(t′, t′)$."
      ]
    },
    {
      "cell_type": "code",
      "metadata": {
        "id": "BEvuY4GqvhS6",
        "colab": {
          "base_uri": "https://localhost:8080/"
        },
        "outputId": "236fd61e-5958-4205-e467-02290db5d529"
      },
      "source": [
        "# Функция MAP для проекции\n",
        "def MAP_projection(el_list, attributes_to_keep):\n",
        "    mapped_result = []\n",
        "    for t in el_list:\n",
        "        t_prime = tuple(val for i, val in enumerate(t) if i in attributes_to_keep)  # Оставляем только нужные атрибуты\n",
        "        mapped_result.append((t_prime, t_prime))  # Пара (t', t')\n",
        "    return mapped_result\n",
        "\n",
        "# Функция Reduce, которая возвращает только один уникальный кортеж для каждого ключа\n",
        "def REDUCE_projection(mapped_items):\n",
        "    return [key for key, _ in mapped_items]  # Просто возвращаем ключи (они равны значениям)\n",
        "\n",
        "# Пример использования\n",
        "attributes_to_keep = {0, 2}  # Например, хотим оставить только первый и третий атрибут\n",
        "data = RECORDREADER(10)\n",
        "mapped = MAP_projection(data, attributes_to_keep)  # Применяем MAP, чтобы оставить только нужные атрибуты\n",
        "result = REDUCE_projection(mapped)  # Переходим к REDUCE, где просто выводим уникальные проекционные кортежи\n",
        "print(result)\n"
      ],
      "execution_count": 80,
      "outputs": [
        {
          "output_type": "stream",
          "name": "stdout",
          "text": [
            "[(96, 1), (22, 70), (75, 22), (14, 24), (46, 55), (83, 9), (75, 60), (81, 49), (70, 28), (12, 20)]\n"
          ]
        }
      ]
    },
    {
      "cell_type": "markdown",
      "metadata": {
        "id": "7gau6lKXvn2R"
      },
      "source": [
        "### Union (Объединение)\n",
        "\n",
        "**The Map Function:** Превратите каждый входной кортеж $t$ в пару ключ-значение $(t, t)$.\n",
        "\n",
        "**The Reduce Function:** С каждым ключом $t$ будет ассоциировано одно или два значений. В обоих случаях создайте $(t, t)$ в качестве выходного значения."
      ]
    },
    {
      "cell_type": "code",
      "metadata": {
        "id": "Sns7a5agv3nw",
        "colab": {
          "base_uri": "https://localhost:8080/"
        },
        "outputId": "f96254f2-22c7-4d3f-fed2-93fe5c15ecb5"
      },
      "source": [
        "import random\n",
        "from typing import Iterator\n",
        "\n",
        "# Функция MAP для преобразования каждого входного элемента t в пару (t, t)\n",
        "def MAP(t):\n",
        "    return (t, t)  # Возвращаем пару (t, t) для каждого элемента\n",
        "\n",
        "# Функция REDUCE для обработки (t, t) пар\n",
        "def REDUCE(key, values: Iterator):\n",
        "    return (key, key)  # Для каждого ключа возвращаем пару (key, key)\n",
        "\n",
        "# Генератор случайных данных\n",
        "def RECORDREADER(count):\n",
        "    return [(random.randint(0, 100), random.randint(0, 100), random.randint(0, 100)) for _ in range(count)]  # Генерация кортежей с случайными числами\n",
        "\n",
        "# Группировка значений по ключу\n",
        "def group_by_key(iterable):\n",
        "    t = {}\n",
        "    for (k2, v2) in iterable:  # Перебор элементов\n",
        "        t[k2] = t.get(k2, []) + [v2]  # Группируем элементы по ключу\n",
        "    return t.items()  # Возвращаем список кортежей (ключ, значения)\n",
        "\n",
        "# Пример использования\n",
        "record = RECORDREADER(5)  # Генерация списка кортежей\n",
        "print(\"Record:\", record)\n",
        "\n",
        "# Применение функции MAP ко всем элементам\n",
        "map_output = list(map(lambda x: MAP(x), record))\n",
        "print(\"MAP output:\", map_output)\n",
        "\n",
        "# Группировка значений по ключу\n",
        "shuffle_output = group_by_key(map_output)  # Группируем по ключу\n",
        "shuffle_output = list(shuffle_output)  # Преобразуем в список\n",
        "print(\"Shuffle output:\", shuffle_output)\n",
        "\n",
        "# Применение функции REDUCE к результату группировки\n",
        "reduce_output = list(map(lambda x: REDUCE(*x)[0], shuffle_output))\n",
        "print(\"Reduce output:\", reduce_output)\n",
        "\n",
        "# Функция MAP для объединения элементов в пары (t, t)\n",
        "def MAP_union(el_list):\n",
        "    return [(t, t) for t in el_list]  # Для каждого элемента создаем пару (t, t)\n",
        "\n",
        "# Функция REDUCE для обработки пар (t, t)\n",
        "def REDUCE_union(mapped_items):\n",
        "    return [key for key, _ in mapped_items]  # Возвращаем только ключи\n",
        "\n",
        "# Пример использования для MAP_union и REDUCE_union\n",
        "data = RECORDREADER(10)  # Генерация данных\n",
        "mapped = MAP_union(data)  # Применяем MAP, создавая пары (t, t)\n",
        "result = REDUCE_union(mapped)  # Применяем REDUCE для сбора всех ключей\n",
        "print(\"Reduce Union Result:\", result)\n"
      ],
      "execution_count": 79,
      "outputs": [
        {
          "output_type": "stream",
          "name": "stdout",
          "text": [
            "Record: [(30, 28, 63), (52, 39, 60), (57, 10, 16), (49, 84, 38), (75, 66, 47)]\n",
            "MAP output: [((30, 28, 63), (30, 28, 63)), ((52, 39, 60), (52, 39, 60)), ((57, 10, 16), (57, 10, 16)), ((49, 84, 38), (49, 84, 38)), ((75, 66, 47), (75, 66, 47))]\n",
            "Shuffle output: [((30, 28, 63), [(30, 28, 63)]), ((52, 39, 60), [(52, 39, 60)]), ((57, 10, 16), [(57, 10, 16)]), ((49, 84, 38), [(49, 84, 38)]), ((75, 66, 47), [(75, 66, 47)])]\n",
            "Reduce output: [(30, 28, 63), (52, 39, 60), (57, 10, 16), (49, 84, 38), (75, 66, 47)]\n",
            "Reduce Union Result: [(29, 97, 77), (93, 21, 85), (12, 15, 61), (1, 2, 31), (95, 55, 2), (18, 56, 18), (1, 99, 23), (28, 1, 87), (28, 44, 61), (98, 26, 84)]\n"
          ]
        }
      ]
    },
    {
      "cell_type": "markdown",
      "metadata": {
        "id": "dQ8TuEbjv4J8"
      },
      "source": [
        "### Intersection (Пересечение)\n",
        "\n",
        "**The Map Function:** Превратите каждый кортеж $t$ в пары ключ-значение $(t, t)$.\n",
        "\n",
        "**The Reduce Function:** Если для ключа $t$ есть список из двух элементов $[t, t]$ $-$ создайте пару $(t, t)$. Иначе, ничего не создавайте."
      ]
    },
    {
      "cell_type": "code",
      "metadata": {
        "id": "XKlBZh4IwERR",
        "colab": {
          "base_uri": "https://localhost:8080/"
        },
        "outputId": "07283cc0-64b2-4502-bb56-7ba79c32d4b5"
      },
      "source": [
        "import random\n",
        "from collections import defaultdict\n",
        "\n",
        "def RECORDREADER(count):\n",
        "    return [(random.randint(0, 3), random.randint(0, 3)) for _ in range(count)]  # Генерация случайных кортежей\n",
        "\n",
        "def MAP_intersection(el_list):\n",
        "    return [(t, t) for t in el_list]  # Преобразуем каждый кортеж в пару (t, t)\n",
        "\n",
        "def group_by_key(iterable):\n",
        "    grouped = defaultdict(list)\n",
        "    for k, v in iterable:\n",
        "        grouped[k].append(v)\n",
        "    return grouped.items()\n",
        "\n",
        "def REDUCE_intersection(grouped_items):\n",
        "    return [(key, key) for key, values in grouped_items if len(values) == 2]  # Пересечение множеств\n",
        "\n",
        "# Пример использования\n",
        "data1 = RECORDREADER(10)\n",
        "data2 = RECORDREADER(10)\n",
        "print(\"Dataset 1:\", data1)\n",
        "print(\"Dataset 2:\", data2)\n",
        "\n",
        "mapped1 = MAP_intersection(data1)\n",
        "mapped2 = MAP_intersection(data2)\n",
        "mapped_all = mapped1 + mapped2  # Объединяем два набора\n",
        "\n",
        "grouped_data = group_by_key(mapped_all)\n",
        "intersection_result = REDUCE_intersection(grouped_data)\n",
        "\n",
        "print(\"Intersection:\", intersection_result)\n"
      ],
      "execution_count": 70,
      "outputs": [
        {
          "output_type": "stream",
          "name": "stdout",
          "text": [
            "Dataset 1: [(0, 0), (3, 3), (2, 2), (2, 0), (3, 2), (1, 1), (0, 0), (2, 2), (1, 1), (1, 1)]\n",
            "Dataset 2: [(3, 2), (2, 2), (3, 1), (0, 1), (0, 0), (1, 2), (1, 0), (2, 0), (2, 0), (3, 1)]\n",
            "Intersection: [((3, 2), (3, 2)), ((3, 1), (3, 1))]\n"
          ]
        }
      ]
    },
    {
      "cell_type": "markdown",
      "metadata": {
        "id": "AVOpqoY3wE5k"
      },
      "source": [
        "### Difference (Разница)\n",
        "\n",
        "**The Map Function:** Для кортежа $t \\in R$, создайте пару $(t, R)$, и для кортежа $t \\in S$, создайте пару $(t, S)$. Задумка заключается в том, чтобы значение пары было именем отношения $R$ or $S$, которому принадлежит кортеж (а лучше, единичный бит, по которому можно два отношения различить $R$ or $S$), а не весь набор атрибутов отношения.\n",
        "\n",
        "**The Reduce Function:** Для каждого ключа $t$, если соответствующее значение является списком $[R]$, создайте пару $(t, t)$. В иных случаях не предпринимайте действий."
      ]
    },
    {
      "cell_type": "code",
      "metadata": {
        "id": "QE_AC09lwZIZ",
        "colab": {
          "base_uri": "https://localhost:8080/"
        },
        "outputId": "81b1bb5f-8224-4cf7-ad5c-cca0dac34d06"
      },
      "source": [
        "import random\n",
        "from collections import defaultdict\n",
        "from typing import List, Tuple as T, Iterator\n",
        "\n",
        "rels = [1, 2]\n",
        "\n",
        "class DataTuple:\n",
        "    # Класс для хранения данных и id представления\n",
        "    def __init__(self, data: tuple, rel_id: int):\n",
        "        self.data = data\n",
        "        self.rel_id = rel_id\n",
        "\n",
        "def get_random_tuple(count: int) -> DataTuple:\n",
        "    # Генерация случайного кортежа с count парами чисел и случайным rel_id\n",
        "    data = tuple([(random.randint(0, 3), random.randint(0, 3)) for _ in range(count)])\n",
        "    rel_id = random.choice(rels)  # Выбор случайного id представления из массива rels\n",
        "    return DataTuple(data, rel_id)\n",
        "\n",
        "def RECORDREADER(count: int) -> List[DataTuple]:\n",
        "    # Генерация списка случайных кортежей данных\n",
        "    return [get_random_tuple(3) for _ in range(count)]\n",
        "\n",
        "def MAP(t: DataTuple) -> T[tuple, int]:\n",
        "    # Функция MAP, которая возвращает кортеж (данные, id)\n",
        "    return (t.data, t.rel_id)\n",
        "\n",
        "def REDUCE(key: int, values: Iterator[int]) -> T[int, int]:\n",
        "    # Функция REDUCE, которая оставляет только элементы с rel_id == 1\n",
        "    if values == [rels[0]]:\n",
        "        return key, key\n",
        "    return None\n",
        "\n",
        "def group_by_key(iterable: Iterator[T[tuple, int]]) -> list:\n",
        "    # Группировка значений по ключу\n",
        "    grouped = defaultdict(list)\n",
        "    for key, value in iterable:\n",
        "        grouped[key].append(value)\n",
        "    return list(grouped.items())\n",
        "\n",
        "# Генерация данных\n",
        "record = RECORDREADER(100)\n",
        "\n",
        "# Применение функции MAP к данным\n",
        "map_output = list(map(MAP, record))\n",
        "print(\"MAP output:\", map_output)\n",
        "\n",
        "# Группировка значений по ключу\n",
        "grouped_output = group_by_key(map_output)\n",
        "print(\"Grouped output:\", grouped_output)\n",
        "\n",
        "# Применение функции REDUCE к сгруппированным данным\n",
        "reduce_output = [el[0] for el in map(lambda x: REDUCE(*x), grouped_output) if el is not None]\n",
        "print(\"Reduce output:\", reduce_output)\n"
      ],
      "execution_count": 78,
      "outputs": [
        {
          "output_type": "stream",
          "name": "stdout",
          "text": [
            "MAP output: [(((0, 3), (1, 1), (3, 1)), 1), (((0, 1), (1, 0), (2, 1)), 1), (((0, 2), (0, 0), (1, 0)), 1), (((0, 2), (3, 3), (2, 1)), 1), (((0, 1), (2, 2), (1, 3)), 2), (((1, 2), (0, 3), (1, 1)), 1), (((1, 3), (2, 2), (1, 2)), 2), (((1, 1), (1, 0), (0, 1)), 2), (((0, 2), (0, 3), (0, 2)), 1), (((1, 2), (0, 0), (1, 0)), 1), (((0, 1), (1, 0), (2, 3)), 1), (((3, 1), (0, 3), (2, 1)), 1), (((2, 0), (2, 3), (0, 3)), 2), (((0, 2), (0, 0), (0, 1)), 2), (((2, 2), (2, 0), (3, 0)), 2), (((2, 3), (1, 0), (1, 2)), 2), (((1, 1), (0, 1), (1, 2)), 2), (((1, 2), (3, 3), (3, 0)), 1), (((2, 0), (3, 1), (1, 3)), 1), (((0, 2), (1, 2), (3, 3)), 2), (((0, 1), (3, 2), (2, 2)), 1), (((1, 3), (2, 2), (3, 2)), 2), (((0, 3), (0, 3), (0, 1)), 2), (((3, 2), (2, 2), (2, 3)), 2), (((2, 1), (0, 0), (3, 1)), 1), (((1, 3), (2, 0), (2, 1)), 2), (((2, 3), (1, 0), (2, 0)), 2), (((2, 2), (3, 1), (2, 0)), 2), (((1, 2), (1, 3), (0, 1)), 1), (((0, 3), (2, 1), (1, 3)), 2), (((2, 0), (1, 1), (0, 2)), 2), (((1, 2), (2, 2), (1, 1)), 2), (((1, 0), (0, 2), (0, 2)), 2), (((2, 1), (1, 3), (2, 1)), 2), (((0, 2), (1, 1), (1, 2)), 2), (((0, 2), (1, 1), (3, 0)), 2), (((0, 1), (0, 2), (2, 3)), 1), (((2, 2), (1, 3), (1, 3)), 2), (((3, 3), (1, 3), (1, 3)), 1), (((2, 1), (0, 0), (1, 0)), 2), (((3, 2), (0, 0), (3, 1)), 1), (((0, 3), (1, 2), (3, 0)), 2), (((1, 0), (1, 1), (0, 0)), 2), (((3, 1), (1, 0), (3, 1)), 1), (((3, 3), (2, 3), (3, 2)), 2), (((2, 2), (3, 2), (3, 0)), 2), (((1, 3), (1, 3), (2, 1)), 1), (((0, 1), (3, 2), (1, 2)), 1), (((1, 1), (1, 1), (2, 3)), 2), (((3, 1), (3, 2), (0, 3)), 1), (((1, 0), (0, 2), (3, 0)), 2), (((3, 0), (1, 0), (1, 2)), 1), (((3, 2), (1, 1), (2, 1)), 1), (((2, 2), (0, 0), (0, 2)), 1), (((3, 0), (3, 3), (2, 2)), 2), (((3, 0), (2, 3), (3, 3)), 1), (((3, 1), (3, 0), (3, 2)), 2), (((3, 1), (1, 1), (1, 0)), 2), (((1, 0), (3, 3), (0, 3)), 1), (((2, 2), (3, 0), (3, 3)), 2), (((2, 0), (1, 0), (3, 3)), 1), (((3, 2), (1, 3), (1, 3)), 1), (((2, 1), (2, 2), (3, 3)), 2), (((2, 0), (1, 0), (1, 2)), 2), (((1, 1), (1, 1), (1, 3)), 2), (((3, 3), (0, 0), (1, 1)), 1), (((2, 3), (1, 3), (1, 0)), 2), (((2, 2), (1, 0), (1, 3)), 2), (((0, 3), (0, 3), (1, 3)), 2), (((0, 0), (0, 0), (3, 1)), 1), (((1, 0), (2, 3), (3, 3)), 1), (((1, 2), (3, 0), (3, 3)), 2), (((3, 0), (2, 2), (3, 3)), 1), (((1, 3), (1, 1), (0, 2)), 2), (((3, 3), (3, 0), (2, 0)), 2), (((3, 1), (2, 0), (3, 2)), 2), (((1, 3), (0, 0), (0, 1)), 2), (((2, 3), (3, 0), (2, 2)), 2), (((1, 2), (3, 3), (1, 3)), 1), (((0, 0), (3, 3), (0, 2)), 1), (((0, 3), (2, 1), (2, 0)), 2), (((3, 1), (2, 1), (0, 3)), 2), (((0, 1), (0, 1), (2, 1)), 2), (((2, 3), (0, 3), (2, 2)), 1), (((2, 0), (1, 1), (0, 1)), 2), (((1, 1), (0, 2), (2, 0)), 2), (((0, 1), (3, 2), (3, 0)), 1), (((1, 3), (3, 2), (1, 1)), 1), (((0, 2), (0, 3), (1, 1)), 1), (((1, 2), (1, 1), (3, 0)), 2), (((2, 0), (2, 3), (2, 3)), 1), (((0, 2), (0, 2), (3, 3)), 2), (((3, 0), (2, 2), (3, 1)), 2), (((1, 2), (0, 2), (0, 1)), 2), (((3, 3), (2, 3), (3, 2)), 1), (((0, 1), (2, 3), (0, 0)), 2), (((1, 0), (0, 2), (1, 0)), 1), (((2, 0), (0, 3), (0, 2)), 2), (((3, 1), (0, 0), (2, 3)), 2), (((0, 1), (0, 2), (3, 2)), 2)]\n",
            "Grouped output: [(((0, 3), (1, 1), (3, 1)), [1]), (((0, 1), (1, 0), (2, 1)), [1]), (((0, 2), (0, 0), (1, 0)), [1]), (((0, 2), (3, 3), (2, 1)), [1]), (((0, 1), (2, 2), (1, 3)), [2]), (((1, 2), (0, 3), (1, 1)), [1]), (((1, 3), (2, 2), (1, 2)), [2]), (((1, 1), (1, 0), (0, 1)), [2]), (((0, 2), (0, 3), (0, 2)), [1]), (((1, 2), (0, 0), (1, 0)), [1]), (((0, 1), (1, 0), (2, 3)), [1]), (((3, 1), (0, 3), (2, 1)), [1]), (((2, 0), (2, 3), (0, 3)), [2]), (((0, 2), (0, 0), (0, 1)), [2]), (((2, 2), (2, 0), (3, 0)), [2]), (((2, 3), (1, 0), (1, 2)), [2]), (((1, 1), (0, 1), (1, 2)), [2]), (((1, 2), (3, 3), (3, 0)), [1]), (((2, 0), (3, 1), (1, 3)), [1]), (((0, 2), (1, 2), (3, 3)), [2]), (((0, 1), (3, 2), (2, 2)), [1]), (((1, 3), (2, 2), (3, 2)), [2]), (((0, 3), (0, 3), (0, 1)), [2]), (((3, 2), (2, 2), (2, 3)), [2]), (((2, 1), (0, 0), (3, 1)), [1]), (((1, 3), (2, 0), (2, 1)), [2]), (((2, 3), (1, 0), (2, 0)), [2]), (((2, 2), (3, 1), (2, 0)), [2]), (((1, 2), (1, 3), (0, 1)), [1]), (((0, 3), (2, 1), (1, 3)), [2]), (((2, 0), (1, 1), (0, 2)), [2]), (((1, 2), (2, 2), (1, 1)), [2]), (((1, 0), (0, 2), (0, 2)), [2]), (((2, 1), (1, 3), (2, 1)), [2]), (((0, 2), (1, 1), (1, 2)), [2]), (((0, 2), (1, 1), (3, 0)), [2]), (((0, 1), (0, 2), (2, 3)), [1]), (((2, 2), (1, 3), (1, 3)), [2]), (((3, 3), (1, 3), (1, 3)), [1]), (((2, 1), (0, 0), (1, 0)), [2]), (((3, 2), (0, 0), (3, 1)), [1]), (((0, 3), (1, 2), (3, 0)), [2]), (((1, 0), (1, 1), (0, 0)), [2]), (((3, 1), (1, 0), (3, 1)), [1]), (((3, 3), (2, 3), (3, 2)), [2, 1]), (((2, 2), (3, 2), (3, 0)), [2]), (((1, 3), (1, 3), (2, 1)), [1]), (((0, 1), (3, 2), (1, 2)), [1]), (((1, 1), (1, 1), (2, 3)), [2]), (((3, 1), (3, 2), (0, 3)), [1]), (((1, 0), (0, 2), (3, 0)), [2]), (((3, 0), (1, 0), (1, 2)), [1]), (((3, 2), (1, 1), (2, 1)), [1]), (((2, 2), (0, 0), (0, 2)), [1]), (((3, 0), (3, 3), (2, 2)), [2]), (((3, 0), (2, 3), (3, 3)), [1]), (((3, 1), (3, 0), (3, 2)), [2]), (((3, 1), (1, 1), (1, 0)), [2]), (((1, 0), (3, 3), (0, 3)), [1]), (((2, 2), (3, 0), (3, 3)), [2]), (((2, 0), (1, 0), (3, 3)), [1]), (((3, 2), (1, 3), (1, 3)), [1]), (((2, 1), (2, 2), (3, 3)), [2]), (((2, 0), (1, 0), (1, 2)), [2]), (((1, 1), (1, 1), (1, 3)), [2]), (((3, 3), (0, 0), (1, 1)), [1]), (((2, 3), (1, 3), (1, 0)), [2]), (((2, 2), (1, 0), (1, 3)), [2]), (((0, 3), (0, 3), (1, 3)), [2]), (((0, 0), (0, 0), (3, 1)), [1]), (((1, 0), (2, 3), (3, 3)), [1]), (((1, 2), (3, 0), (3, 3)), [2]), (((3, 0), (2, 2), (3, 3)), [1]), (((1, 3), (1, 1), (0, 2)), [2]), (((3, 3), (3, 0), (2, 0)), [2]), (((3, 1), (2, 0), (3, 2)), [2]), (((1, 3), (0, 0), (0, 1)), [2]), (((2, 3), (3, 0), (2, 2)), [2]), (((1, 2), (3, 3), (1, 3)), [1]), (((0, 0), (3, 3), (0, 2)), [1]), (((0, 3), (2, 1), (2, 0)), [2]), (((3, 1), (2, 1), (0, 3)), [2]), (((0, 1), (0, 1), (2, 1)), [2]), (((2, 3), (0, 3), (2, 2)), [1]), (((2, 0), (1, 1), (0, 1)), [2]), (((1, 1), (0, 2), (2, 0)), [2]), (((0, 1), (3, 2), (3, 0)), [1]), (((1, 3), (3, 2), (1, 1)), [1]), (((0, 2), (0, 3), (1, 1)), [1]), (((1, 2), (1, 1), (3, 0)), [2]), (((2, 0), (2, 3), (2, 3)), [1]), (((0, 2), (0, 2), (3, 3)), [2]), (((3, 0), (2, 2), (3, 1)), [2]), (((1, 2), (0, 2), (0, 1)), [2]), (((0, 1), (2, 3), (0, 0)), [2]), (((1, 0), (0, 2), (1, 0)), [1]), (((2, 0), (0, 3), (0, 2)), [2]), (((3, 1), (0, 0), (2, 3)), [2]), (((0, 1), (0, 2), (3, 2)), [2])]\n",
            "Reduce output: [((0, 3), (1, 1), (3, 1)), ((0, 1), (1, 0), (2, 1)), ((0, 2), (0, 0), (1, 0)), ((0, 2), (3, 3), (2, 1)), ((1, 2), (0, 3), (1, 1)), ((0, 2), (0, 3), (0, 2)), ((1, 2), (0, 0), (1, 0)), ((0, 1), (1, 0), (2, 3)), ((3, 1), (0, 3), (2, 1)), ((1, 2), (3, 3), (3, 0)), ((2, 0), (3, 1), (1, 3)), ((0, 1), (3, 2), (2, 2)), ((2, 1), (0, 0), (3, 1)), ((1, 2), (1, 3), (0, 1)), ((0, 1), (0, 2), (2, 3)), ((3, 3), (1, 3), (1, 3)), ((3, 2), (0, 0), (3, 1)), ((3, 1), (1, 0), (3, 1)), ((1, 3), (1, 3), (2, 1)), ((0, 1), (3, 2), (1, 2)), ((3, 1), (3, 2), (0, 3)), ((3, 0), (1, 0), (1, 2)), ((3, 2), (1, 1), (2, 1)), ((2, 2), (0, 0), (0, 2)), ((3, 0), (2, 3), (3, 3)), ((1, 0), (3, 3), (0, 3)), ((2, 0), (1, 0), (3, 3)), ((3, 2), (1, 3), (1, 3)), ((3, 3), (0, 0), (1, 1)), ((0, 0), (0, 0), (3, 1)), ((1, 0), (2, 3), (3, 3)), ((3, 0), (2, 2), (3, 3)), ((1, 2), (3, 3), (1, 3)), ((0, 0), (3, 3), (0, 2)), ((2, 3), (0, 3), (2, 2)), ((0, 1), (3, 2), (3, 0)), ((1, 3), (3, 2), (1, 1)), ((0, 2), (0, 3), (1, 1)), ((2, 0), (2, 3), (2, 3)), ((1, 0), (0, 2), (1, 0))]\n"
          ]
        }
      ]
    },
    {
      "cell_type": "markdown",
      "metadata": {
        "id": "j8I58V2VwhSm"
      },
      "source": [
        "### Natural Join\n",
        "\n",
        "**The Map Function:** Для каждого кортежа $(a, b)$ отношения $R$, создайте пару $(b,(R, a))$. Для каждого кортежа $(b, c)$ отношения $S$, создайте пару $(b,(S, c))$.\n",
        "\n",
        "**The Reduce Function:** Каждый ключ $b$ будет асоциирован со списком пар, которые принимают форму либо $(R, a)$, либо $(S, c)$. Создайте все пары, одни, состоящие из  первого компонента $R$, а другие, из первого компонента $S$, то есть $(R, a)$ и $(S, c)$. На выходе вы получаете последовательность пар ключ-значение из списков ключей и значений. Ключ не нужен. Каждое значение, это тройка $(a, b, c)$ такая, что $(R, a)$ и $(S, c)$ это принадлежат входному списку значений."
      ]
    },
    {
      "cell_type": "code",
      "metadata": {
        "id": "yHiuuTctw86I",
        "colab": {
          "base_uri": "https://localhost:8080/"
        },
        "outputId": "bc541ea4-18dd-4275-86d1-0ae7109aa153"
      },
      "source": [
        "from collections import defaultdict\n",
        "\n",
        "# Функция MAP для естественного соединения\n",
        "def MAP_R(t):\n",
        "    return (t[1], ('R', t[0]))  # Для отношения R (a, b) создаем пару (b, (R, a))\n",
        "\n",
        "def MAP_S(t):\n",
        "    return (t[0], ('S', t[1]))  # Для отношения S (b, c) создаем пару (b, (S, c))\n",
        "\n",
        "# Функция REDUCE для соединения по ключу b\n",
        "def REDUCE(key, values):\n",
        "    result = []\n",
        "    R_values = [v[1] for v in values if v[0] == 'R']  # Извлекаем все значения из R\n",
        "    S_values = [v[1] for v in values if v[0] == 'S']  # Извлекаем все значения из S\n",
        "    # Создаем все возможные комбинации (a, b, c)\n",
        "    for a in R_values:\n",
        "        for c in S_values:\n",
        "            result.append((a, key, c))  # Формируем тройку (a, b, c)\n",
        "    return result\n",
        "\n",
        "# Пример данных\n",
        "R = [(1, 'a'), (2, 'b'), (3, 'a')]\n",
        "S = [('a', 10), ('b', 20), ('a', 30)]\n",
        "\n",
        "# Применение Map и Reduce\n",
        "map_output_R = list(map(MAP_R, R))\n",
        "map_output_S = list(map(MAP_S, S))\n",
        "\n",
        "# Группировка по ключу\n",
        "grouped = defaultdict(list)\n",
        "for pair in map_output_R + map_output_S:\n",
        "    grouped[pair[0]].append(pair[1])\n",
        "\n",
        "# Применение Reduce\n",
        "reduce_output = []\n",
        "for key, values in grouped.items():\n",
        "    reduce_output.extend(REDUCE(key, values))\n",
        "\n",
        "print(reduce_output)\n"
      ],
      "execution_count": null,
      "outputs": [
        {
          "output_type": "stream",
          "name": "stdout",
          "text": [
            "[(1, 'a', 10), (1, 'a', 30), (3, 'a', 10), (3, 'a', 30), (2, 'b', 20)]\n"
          ]
        }
      ]
    },
    {
      "cell_type": "markdown",
      "source": [
        "**Как работает алгоритм:**\n",
        "\n",
        "На этапе Map мы генерируем пары ключ-значение для обоих наборов данных R и S.\n",
        "На этапе Reduce для каждого ключа b мы собираем все возможные комбинации (𝑎,𝑏,𝑐)(a,b,c), если b присутствует и в R, и в S.\n",
        "Вывод: результатом будет множество троек, где b совпадает в обоих отношениях.\n",
        "\n",
        "**Map Function:** Для каждого кортежа (a,b)(a, b)(a,b) из отношения RRR создается пара (b,(R,a))(b, (R, a))(b,(R,a)). Для каждого кортежа (b,c)(b, c)(b,c) из отношения SSS создается пара (b,(S,c))(b, (S, c))(b,(S,c)). Это позволяет группировать все элементы по ключу bbb, который будет использоваться для соединения.\n",
        "\n",
        "**Reduce Function**: Каждый ключ bbb будет ассоциирован со списком пар. Эти пары могут быть как (R,a)(R, a)(R,a), так и (S,c)(S, c)(S,c). В процессе редукции нужно перебрать все пары и создать тройки вида (a,b,c)(a, b, c)(a,b,c), используя пары из RRR и SSS.\n",
        "\n"
      ],
      "metadata": {
        "id": "sAhcN0IEX466"
      }
    },
    {
      "cell_type": "markdown",
      "metadata": {
        "id": "kYdlr0YUxE27"
      },
      "source": [
        "### Grouping and Aggregation (Группировка и аггрегация)\n",
        "\n",
        "**The Map Function:** Для каждого кортежа $(a, b, c$) создайте пару $(a, b)$.\n",
        "\n",
        "**The Reduce Function:** Ключ представляет ту или иную группу. Примение аггрегирующую операцию $\\theta$ к списку значений $[b1, b2, . . . , bn]$ ассоциированных с ключом $a$. Возвращайте в выходной поток $(a, x)$, где $x$ результат применения  $\\theta$ к списку. Например, если $\\theta$ это $SUM$, тогда $x = b1 + b2 + · · · + bn$, а если $\\theta$ is $MAX$, тогда $x$ это максимальное из значений $b1, b2, . . . , bn$."
      ]
    },
    {
      "cell_type": "code",
      "metadata": {
        "id": "MLPckfEGxico",
        "colab": {
          "base_uri": "https://localhost:8080/"
        },
        "outputId": "579e7920-4fad-452c-b45d-732867de7826"
      },
      "source": [
        "# Функция MAP для группировки\n",
        "def MAP(t):\n",
        "    return (t[0], t[1])  # Возвращаем (a, b) для кортежа (a, b, c)\n",
        "\n",
        "# Функция REDUCE для агрегации\n",
        "def REDUCE(key, values):\n",
        "    return (key, sum(values))  # Применение агрегирующей операции SUM\n",
        "\n",
        "# Пример данных\n",
        "data = [(1, 10, 100), (1, 20, 200), (2, 30, 300), (2, 40, 400)]\n",
        "\n",
        "# Применение Map\n",
        "map_output = list(map(MAP, data))\n",
        "\n",
        "# Группировка по ключу\n",
        "grouped = defaultdict(list)\n",
        "for key, value in map_output:\n",
        "    grouped[key].append(value)\n",
        "\n",
        "# Применение Reduce\n",
        "reduce_output = []\n",
        "for key, values in grouped.items():\n",
        "    reduce_output.append(REDUCE(key, values))\n",
        "\n",
        "print(reduce_output)\n"
      ],
      "execution_count": null,
      "outputs": [
        {
          "output_type": "stream",
          "name": "stdout",
          "text": [
            "[(1, 30), (2, 70)]\n"
          ]
        }
      ]
    },
    {
      "cell_type": "markdown",
      "source": [
        "Как работает алгоритм:\n",
        "На этапе Map для каждого кортежа создаем пару (a,b)(a, b)(a,b), где aaa — ключ, а bbb — значение.\n",
        "\n",
        "На этапе Reduce для каждого ключа aaa мы агрегируем все значения bbb с помощью функции, например, суммы θ=SUMθ = \\text{SUM}θ=SUM.\n",
        "\n",
        "Вывод: результатом будет список кортежей (a,x)(a, x)(a,x), где xxx — результат применения агрегирующей операции.\n",
        "\n",
        "Map Function: Для каждого кортежа (a,b,c)(a, b, c)(a,b,c) создается пара (a,b)(a, b)(a,b), где aaa — это ключ, а bbb — значение, которое нужно агрегировать.\n",
        "\n",
        "Reduce Function: Для каждого ключа aaa мы собираем список значений bbb, ассоциированных с ним, и применяем агрегирующую функцию θθθ, например, SUM или MAX.\n"
      ],
      "metadata": {
        "id": "WGrZKr5aYeml"
      }
    },
    {
      "cell_type": "markdown",
      "metadata": {
        "id": "03IffTEOJgOb"
      },
      "source": [
        "#"
      ]
    },
    {
      "cell_type": "markdown",
      "metadata": {
        "id": "IIrRgvG4RIS4"
      },
      "source": [
        "### Matrix-Vector multiplication\n",
        "\n",
        "Случай, когда вектор не помещается в памяти Map задачи\n"
      ]
    },
    {
      "cell_type": "code",
      "metadata": {
        "id": "KQhDbiL3zS9r",
        "colab": {
          "base_uri": "https://localhost:8080/"
        },
        "outputId": "367b7366-735a-495c-a9ee-e4fdd4a55edf"
      },
      "source": [
        "# Функция MAP для умножения матрицы на вектор\n",
        "def MAP(matrix_row, vector):\n",
        "    result = []\n",
        "    for i, value in enumerate(matrix_row):\n",
        "        result.append((i, value * vector[i]))  # Умножаем каждый элемент строки матрицы на соответствующий элемент вектора\n",
        "    return result\n",
        "\n",
        "# Функция REDUCE для суммирования произведений\n",
        "def REDUCE(key, values):\n",
        "    return sum(values)  # Суммируем все произведения для каждого индекса\n",
        "\n",
        "# Пример данных\n",
        "matrix = [[1, 2, 3], [4, 5, 6], [7, 8, 9]]  # Матрица\n",
        "vector = [1, 2, 3]  # Вектор\n",
        "\n",
        "# Применение Map\n",
        "map_output = []\n",
        "for row in matrix:\n",
        "    map_output.extend(MAP(row, vector))\n",
        "\n",
        "# Группировка по ключу\n",
        "grouped = defaultdict(list)\n",
        "for key, value in map_output:\n",
        "    grouped[key].append(value)\n",
        "\n",
        "# Применение Reduce\n",
        "reduce_output = []\n",
        "for key, values in grouped.items():\n",
        "    reduce_output.append(REDUCE(key, values))\n",
        "\n",
        "print(reduce_output)\n"
      ],
      "execution_count": null,
      "outputs": [
        {
          "output_type": "stream",
          "name": "stdout",
          "text": [
            "[12, 30, 54]\n"
          ]
        }
      ]
    },
    {
      "cell_type": "markdown",
      "source": [
        "Как работает алгоритм:\n",
        "\n",
        "На этапе Map для каждой строки матрицы мы умножаем каждый элемент строки на соответствующий элемент вектора.\n",
        "На этапе Reduce для каждого индекса строки матрицы мы суммируем все произведения, чтобы получить итоговое значение.\n",
        "Вывод: результат умножения матрицы на вектор.\n",
        "\n"
      ],
      "metadata": {
        "id": "p_iRIlNlY46m"
      }
    },
    {
      "cell_type": "markdown",
      "metadata": {
        "id": "GIo2t7nNxvA9"
      },
      "source": [
        "## Matrix multiplication (Перемножение матриц)\n",
        "\n",
        "Если у нас есть матрица $M$ с элементами $m_{ij}$ в строке $i$ и столбце $j$, и матрица $N$ с элементами $n_{jk}$ в строке $j$ и столбце $k$, тогда их произведение $P = MN$ есть матрица $P$ с элементами $p_{ik}$ в строке $i$ и столбце $k$, где\n",
        "\n",
        "$$p_{ik} =\\sum_{j} m_{ij}n_{jk}$$\n",
        "\n",
        "Необходимым требованием является одинаковое количество столбцов в $M$ и строк в $N$, чтобы операция суммирования по  $j$ была осмысленной. Мы можем размышлять о матрице, как об отношении с тремя атрибутами: номер строки, номер столбца, само значение. Таким образом матрица $M$ предстваляется как отношение $ M(I, J, V )$, с кортежами $(i, j, m_{ij})$, и, аналогично, матрица $N$ представляется как отношение $N(J, K, W)$, с кортежами $(j, k, n_{jk})$. Так как большие матрицы как правило разреженные (большинство значений равно 0), и так как мы можем нулевыми значениями пренебречь (не хранить), такое реляционное представление достаточно эффективно для больших матриц. Однако, возможно, что координаты $i$, $j$, и $k$ неявно закодированы в смещение позиции элемента относительно начала файла, вместо явного хранения. Тогда, функция Map (или Reader) должна быть разработана таким образом, чтобы реконструировать компоненты $I$, $J$, и $K$ кортежей из смещения.\n",
        "\n",
        "Произведение $MN$ это фактически join, за которым следуют группировка по ключу и аггрегация. Таким образом join отношений $M(I, J, V )$ и $N(J, K, W)$, имеющих общим только атрибут $J$, создаст кортежи $(i, j, k, v, w)$ из каждого кортежа $(i, j, v) \\in M$ и кортежа $(j, k, w) \\in N$. Такой 5 компонентный кортеж представляет пару элементов матрицы $(m_{ij} , n_{jk})$. Что нам хотелось бы получить на самом деле, это произведение этих элементов, то есть, 4 компонентный кортеж$(i, j, k, v \\times w)$, так как он представляет произведение $m_{ij}n_{jk}$. Мы представляем отношение как результат одной MapReduce операции, в которой мы можем произвести группировку и аггрегацию, с $I$ и $K$  атрибутами, по которым идёт группировка, и суммой  $V \\times W$.\n",
        "\n",
        "\n",
        "\n"
      ]
    },
    {
      "cell_type": "code",
      "metadata": {
        "id": "1MBkGaLAYVCt"
      },
      "source": [
        "# MapReduce model\n",
        "def flatten(nested_iterable):\n",
        "  for iterable in nested_iterable:\n",
        "    for element in iterable:\n",
        "      yield element\n",
        "\n",
        "def groupbykey(iterable):\n",
        "  t = {}\n",
        "  for (k2, v2) in iterable:\n",
        "    t[k2] = t.get(k2, []) + [v2]\n",
        "  return t.items()\n",
        "\n",
        "def MapReduce(RECORDREADER, MAP, REDUCE):\n",
        "  return flatten(map(lambda x: REDUCE(*x), groupbykey(flatten(map(lambda x: MAP(*x), RECORDREADER())))))\n",
        ""
      ],
      "execution_count": 81,
      "outputs": []
    },
    {
      "cell_type": "markdown",
      "metadata": {
        "id": "sMspsOT0ZB35"
      },
      "source": [
        "Реализуйте перемножение матриц с использованием модельного кода MapReduce для одной машины в случае, когда одна матрица хранится в памяти, а другая генерируется RECORDREADER-ом."
      ]
    },
    {
      "cell_type": "code",
      "metadata": {
        "id": "psP1XekbsEjS"
      },
      "source": [
        "import numpy as np\n",
        "I = 2\n",
        "J = 3\n",
        "K = 4*10\n",
        "small_mat = np.random.rand(I,J) # it is legal to access this from RECORDREADER, MAP, REDUCE\n",
        "big_mat = np.random.rand(J,K)\n",
        "\n",
        "def RECORDREADER():\n",
        "  for j in range(big_mat.shape[0]):\n",
        "    for k in range(big_mat.shape[1]):\n",
        "      yield ((j, k), big_mat[j,k])\n",
        "\n",
        "def MAP(k1, v1):\n",
        "  (j, k) = k1\n",
        "  w = v1\n",
        "  for i in range(small_mat.shape[0]):\n",
        "    yield ((i, k), w * small_mat[i][j])\n",
        "\n",
        "def REDUCE(key, values):\n",
        "  (i, k) = key\n",
        "  el_value = 0\n",
        "  for v in values:\n",
        "    el_value += v\n",
        "  yield ((i, k), el_value)\n",
        ""
      ],
      "execution_count": 82,
      "outputs": []
    },
    {
      "cell_type": "markdown",
      "metadata": {
        "id": "rnt306LHhHrm"
      },
      "source": [
        "Проверьте своё решение"
      ]
    },
    {
      "cell_type": "code",
      "metadata": {
        "id": "Ewy_ZNYqW5a2",
        "colab": {
          "base_uri": "https://localhost:8080/"
        },
        "outputId": "4c64c634-ef99-45ee-fd80-020004ad1519"
      },
      "source": [
        "# CHECK THE SOLUTION\n",
        "reference_solution = np.matmul(small_mat, big_mat)\n",
        "solution = MapReduce(RECORDREADER, MAP, REDUCE)\n",
        "\n",
        "def asmatrix(reduce_output):\n",
        "  reduce_output = list(reduce_output)\n",
        "  I = max(i for ((i,k), vw) in reduce_output)+1\n",
        "  K = max(k for ((i,k), vw) in reduce_output)+1\n",
        "  mat = np.empty(shape=(I,K))\n",
        "  for ((i,k), vw) in reduce_output:\n",
        "    mat[i,k] = vw\n",
        "  return mat\n",
        "\n",
        "np.allclose(reference_solution, asmatrix(solution)) # should return true"
      ],
      "execution_count": 83,
      "outputs": [
        {
          "output_type": "execute_result",
          "data": {
            "text/plain": [
              "True"
            ]
          },
          "metadata": {},
          "execution_count": 83
        }
      ]
    },
    {
      "cell_type": "code",
      "metadata": {
        "id": "TK7v4CEcfxqf",
        "colab": {
          "base_uri": "https://localhost:8080/"
        },
        "outputId": "9f8c9c97-d390-414a-ff97-d66cfefcc309"
      },
      "source": [
        "reduce_output = list(MapReduce(RECORDREADER, MAP, REDUCE))\n",
        "max(i for ((i,k), vw) in reduce_output)"
      ],
      "execution_count": 84,
      "outputs": [
        {
          "output_type": "execute_result",
          "data": {
            "text/plain": [
              "1"
            ]
          },
          "metadata": {},
          "execution_count": 84
        }
      ]
    },
    {
      "cell_type": "markdown",
      "metadata": {
        "id": "i4yyg3kOZqJJ"
      },
      "source": [
        "Реализуйте перемножение матриц  с использованием модельного кода MapReduce для одной машины в случае, когда обе матрицы генерируются в RECORDREADER. Например, сначала одна, а потом другая."
      ]
    },
    {
      "cell_type": "code",
      "metadata": {
        "id": "3B7rIAJCaHZq",
        "colab": {
          "base_uri": "https://localhost:8080/"
        },
        "outputId": "2c2ebbc9-f9cd-4e46-ae23-2209984885f4"
      },
      "source": [
        "import numpy as np\n",
        "\n",
        "# Определяем размеры матриц\n",
        "I, J, K = 2, 3, 40  # Размеры матриц: I x J и J x K\n",
        "\n",
        "# Генерация случайных матриц\n",
        "small_mat = np.random.rand(I, J)  # Первая матрица I x J\n",
        "big_mat = np.random.rand(J, K)  # Вторая матрица J x K\n",
        "\n",
        "# Эталонное решение с использованием numpy\n",
        "reference_solution = np.matmul(small_mat, big_mat)\n",
        "\n",
        "# Функция чтения матриц и преобразования их в (ключ, значение)\n",
        "def read_matrices():\n",
        "    for i in range(I):\n",
        "        for j in range(J):\n",
        "            yield (0, i, j), small_mat[i, j]  # Первый элемент\n",
        "\n",
        "    for j in range(J):\n",
        "        for k in range(K):\n",
        "            yield (1, j, k), big_mat[j, k]  # Второй элемент\n",
        "\n",
        "# MAP-функция: разделение данных для распределенной обработки\n",
        "def map_join(key, value):\n",
        "    mat_id, i, j = key\n",
        "    if mat_id == 0:\n",
        "        yield j, (0, i, value)  # Распространяем элемент первой матрицы по столбцу\n",
        "    else:\n",
        "        yield i, (1, j, value)  # Распространяем элемент второй матрицы по строке\n",
        "\n",
        "# REDUCE-функция: объединение элементов и вычисление их произведений\n",
        "def reduce_join(_, values):\n",
        "    first_mat = [v for v in values if v[0] == 0]\n",
        "    second_mat = [v for v in values if v[0] == 1]\n",
        "\n",
        "    for f in first_mat:\n",
        "        for s in second_mat:\n",
        "            yield (f[1], s[1]), f[2] * s[2]  # Перемножение значений\n",
        "\n",
        "# MAP-функция: передача произведений дальше\n",
        "def map_sum(key, value):\n",
        "    yield key, value\n",
        "\n",
        "# REDUCE-функция: суммирование произведений для получения итоговых значений\n",
        "def reduce_sum(key, values):\n",
        "    yield key, sum(values)  # Суммируем элементы с одинаковыми ключами\n",
        "\n",
        "# Универсальная функция для запуска MapReduce-процессов\n",
        "def run_mapreduce(data_reader, map_func, reduce_func):\n",
        "    mapped = (map_func(k, v) for k, v in data_reader())\n",
        "    grouped = {}\n",
        "    for k, v in (pair for sublist in mapped for pair in sublist):\n",
        "        grouped.setdefault(k, []).append(v)\n",
        "    return (pair for sublist in (reduce_func(k, v) for k, v in grouped.items()) for pair in sublist)\n",
        "\n",
        "# Запуск первого MapReduce (JOIN)\n",
        "joined = list(run_mapreduce(read_matrices, map_join, reduce_join))\n",
        "\n",
        "# Запуск второго MapReduce (умножение и суммирование)\n",
        "solution = run_mapreduce(lambda: joined, map_sum, reduce_sum)\n",
        "\n",
        "# Функция преобразования списка пар в матрицу\n",
        "def to_matrix(reduce_output):\n",
        "    result = np.zeros((I, K))  # Инициализация нулевой матрицы\n",
        "    for (i, k), value in reduce_output:\n",
        "        result[i, k] = value  # Заполняем результат\n",
        "    return result\n",
        "\n",
        "# Проверка совпадения результатов\n",
        "print(np.allclose(reference_solution, to_matrix(solution)))\n"
      ],
      "execution_count": 62,
      "outputs": [
        {
          "output_type": "stream",
          "name": "stdout",
          "text": [
            "True\n"
          ]
        }
      ]
    },
    {
      "cell_type": "markdown",
      "metadata": {
        "id": "mXyzQi1DaIwo"
      },
      "source": [
        "Реализуйте перемножение матриц с использованием модельного кода MapReduce Distributed, когда каждая матрица генерируется в своём RECORDREADER."
      ]
    },
    {
      "cell_type": "code",
      "metadata": {
        "id": "TDM_s78Rb5eR",
        "colab": {
          "base_uri": "https://localhost:8080/"
        },
        "outputId": "4a08a9bc-8051-449b-96ba-2fb8aad001da"
      },
      "source": [
        "import numpy as np\n",
        "\n",
        "# Определяем размеры матриц\n",
        "I = 2\n",
        "J = 3\n",
        "K = 4 * 10\n",
        "\n",
        "# Создаем случайные матрицы\n",
        "small_mat = np.random.rand(I, J)  # Матрица I x J\n",
        "big_mat = np.random.rand(J, K)    # Матрица J x K\n",
        "\n",
        "# Вычисляем эталонное решение с помощью стандартного умножения матриц\n",
        "reference_solution = np.matmul(small_mat, big_mat)\n",
        "\n",
        "# Функция, превращающая вложенный итерируемый объект в плоский список\n",
        "def flatten(nested_iterable):\n",
        "    for iterable in nested_iterable:\n",
        "        for element in iterable:\n",
        "            yield element\n",
        "\n",
        "# Группировка значений по ключу\n",
        "def groupbykey(iterable):\n",
        "    t = {}\n",
        "    for (k2, v2) in iterable:\n",
        "        t[k2] = t.get(k2, []) + [v2]\n",
        "    return t.items()\n",
        "\n",
        "# Распределенная группировка значений по ключу с разбиением на партиции\n",
        "def groupbykey_distributed(map_partitions, PARTITIONER):\n",
        "    global reducers\n",
        "    partitions = [dict() for _ in range(reducers)]\n",
        "\n",
        "    for map_partition in map_partitions:\n",
        "        for (k2, v2) in map_partition:\n",
        "            p = partitions[PARTITIONER(k2)]  # Определяем, в какую партицию попадет ключ\n",
        "            p[k2] = p.get(k2, []) + [v2]\n",
        "\n",
        "    return [(partition_id, sorted(partition.items(), key=lambda x: x[0])) for partition_id, partition in enumerate(partitions)]\n",
        "\n",
        "# Функция распределения ключей по партициям\n",
        "def PARTITIONER(obj):\n",
        "    global reducers\n",
        "    return hash(obj) % reducers\n",
        "\n",
        "# Основная функция MapReduce\n",
        "def MapReduceDistributed(INPUTFORMAT, MAP, REDUCE, PARTITIONER=PARTITIONER, COMBINER=None):\n",
        "    # Фаза Map: применяем MAP к входным данным\n",
        "    map_partitions = map(lambda record_reader: flatten(map(lambda k1v1: MAP(*k1v1), record_reader)), INPUTFORMAT())\n",
        "\n",
        "    if COMBINER is not None:\n",
        "        map_partitions = map(lambda map_partition: flatten(map(lambda k2v2: COMBINER(*k2v2), groupbykey(map_partition))), map_partitions)\n",
        "\n",
        "    reduce_partitions = groupbykey_distributed(map_partitions, PARTITIONER)\n",
        "\n",
        "    # Агрегируем данные по ключам\n",
        "    reduce_outputs = map(lambda reduce_partition: (reduce_partition[0], flatten(map(lambda reduce_input_group: REDUCE(*reduce_input_group), reduce_partition[1]))), reduce_partitions)\n",
        "\n",
        "    # Вывод количества переданных пар ключ-значение\n",
        "    print(\"{} key-value pairs were sent over a network.\".format(sum([len(vs) for (k,vs) in flatten([partition for (partition_id, partition) in reduce_partitions])])))\n",
        "\n",
        "    return reduce_outputs\n",
        "\n",
        "# Функция преобразования результата в матрицу\n",
        "def asmatrix(reduce_output):\n",
        "    reduce_output = list(reduce_output)\n",
        "    I = max(i for ((i,k), vw) in reduce_output) + 1\n",
        "    K = max(k for ((i,k), vw) in reduce_output) + 1\n",
        "    mat = np.empty(shape=(I,K))\n",
        "    for ((i,k), vw) in reduce_output:\n",
        "        mat[i, k] = vw\n",
        "    return mat\n",
        "\n",
        "# Формат входных данных для MapReduce\n",
        "def INPUTFORMAT():\n",
        "    first_mat = [((0, i, j), small_mat[i, j]) for i in range(small_mat.shape[0]) for j in range(small_mat.shape[1])]\n",
        "    yield first_mat\n",
        "\n",
        "    second_mat = [((1, j, k), big_mat[j, k]) for j in range(big_mat.shape[0]) for k in range(big_mat.shape[1])]\n",
        "    yield second_mat\n",
        "\n",
        "# Фаза Map для умножения матриц (разделение по ключу)\n",
        "def MAP_JOIN(k1, v1):\n",
        "    (mat_num, i, j) = k1\n",
        "    w = v1\n",
        "    if mat_num == 0:\n",
        "        yield (j, (mat_num, i, w))  # Отправляем элемент первой матрицы с ключом j\n",
        "    else:\n",
        "        yield (i, (mat_num, j, w))  # Отправляем элемент второй матрицы с ключом i\n",
        "\n",
        "# Фаза Reduce для соединения значений по ключам\n",
        "def REDUCE_JOIN(key, values):\n",
        "    from_first_mat = [v for v in values if v[0] == 0]\n",
        "    from_second_mat = [v for v in values if v[0] == 1]\n",
        "    for f in from_first_mat:\n",
        "        for s in from_second_mat:\n",
        "            yield ((f[1], s[1]), f[2] * s[2])  # Умножаем соответствующие элементы\n",
        "\n",
        "# Получение результатов объединения\n",
        "def GET_JOINED():\n",
        "    for j in joined:\n",
        "        print(\"aa\", j)\n",
        "        yield j[1]\n",
        "\n",
        "# Фаза Map для суммирования произведений\n",
        "def MAP_MUL(k1, v1):\n",
        "    yield (k1, v1)\n",
        "\n",
        "# Фаза Reduce для суммирования элементов\n",
        "def REDUCE_MUL(key, values):\n",
        "    yield (key, sum(values))  # Складываем все элементы с одинаковым ключом\n",
        "\n",
        "# Количество карт и редьюсеров\n",
        "maps = 4\n",
        "reducers = 2\n",
        "\n",
        "# Выполняем первый этап MapReduce (умножение матриц)\n",
        "partitioned_output = MapReduceDistributed(INPUTFORMAT, MAP_JOIN, REDUCE_JOIN, COMBINER=None)\n",
        "joined = [(partition_id, list(partition)) for (partition_id, partition) in partitioned_output]\n",
        "print(joined)\n",
        "\n",
        "# Выполняем второй этап MapReduce (суммирование)\n",
        "mul_output = MapReduceDistributed(GET_JOINED, MAP_MUL, REDUCE_MUL, COMBINER=None)\n",
        "pre_result = [(partition_id, list(partition)) for (partition_id, partition) in mul_output]\n",
        "print(pre_result)\n",
        "\n",
        "# Преобразуем результат в окончательный список\n",
        "solution = [v for p in pre_result for v in p[1]]\n",
        "print(solution)\n",
        "\n",
        "# Сравниваем с эталонным решением\n",
        "np.allclose(reference_solution, asmatrix(solution))\n"
      ],
      "execution_count": null,
      "outputs": [
        {
          "output_type": "stream",
          "name": "stdout",
          "text": [
            "126 key-value pairs were sent over a network.\n",
            "[(0, [((0, 0), 0.5409688396516846), ((0, 1), 0.441185527701592), ((0, 2), 0.4910468588748887), ((0, 3), 0.4801939333926947), ((0, 4), 0.6950785530075944), ((0, 5), 0.588347636140214), ((0, 6), 0.5204682823169958), ((0, 7), 0.03346097225018539), ((0, 8), 0.061217039746889676), ((0, 9), 0.13793607495149351), ((0, 10), 0.14942634958329193), ((0, 11), 0.07471615324234389), ((0, 12), 0.5818660446490205), ((0, 13), 0.4873849685529308), ((0, 14), 0.20507872772684926), ((0, 15), 0.6130156788504186), ((0, 16), 0.5057341253934137), ((0, 17), 0.029269564402916882), ((0, 18), 0.42354084309763174), ((0, 19), 0.3529006750426488), ((0, 20), 0.20641716200374066), ((0, 21), 0.34781947974095917), ((0, 22), 0.39261276602193473), ((0, 23), 0.2770538148416106), ((0, 24), 0.5761187812850077), ((0, 25), 0.1822449061379207), ((0, 26), 0.44774034585808437), ((0, 27), 0.6729133102378071), ((0, 28), 0.09247388883381122), ((0, 29), 0.634149765537203), ((0, 30), 0.2176094813565406), ((0, 31), 0.4961892229579474), ((0, 32), 0.6386908044632978), ((0, 33), 0.4483776836526205), ((0, 34), 0.10842135687732829), ((0, 35), 0.0016112139507414858), ((0, 36), 0.06995459701000357), ((0, 37), 0.3232913432645325), ((0, 38), 0.02469532947582093), ((0, 39), 0.2526277022907266), ((1, 0), 0.6330801044718793), ((1, 1), 0.5163065956786764), ((1, 2), 0.5746578618414786), ((1, 3), 0.5619569986965388), ((1, 4), 0.8134302212998826), ((1, 5), 0.6885261324723513), ((1, 6), 0.6090888982731396), ((1, 7), 0.03915840295259427), ((1, 8), 0.07164052174127739), ((1, 9), 0.16142257804896573), ((1, 10), 0.17486931237287473), ((1, 11), 0.08743814178069123), ((1, 12), 0.6809409144013235), ((1, 13), 0.5703724580664989), ((1, 14), 0.23999767243131548), ((1, 15), 0.7173944256371634), ((1, 16), 0.5918459428184549), ((1, 17), 0.03425332021337121), ((1, 18), 0.49565753430271825), ((1, 19), 0.4129893994782536), ((1, 20), 0.24156400315082371), ((1, 21), 0.4070430243515329), ((1, 22), 0.4594633049293525), ((1, 23), 0.32422802421890545), ((1, 24), 0.6742150591870762), ((1, 25), 0.2132759149150808), ((1, 26), 0.5239775087870512), ((1, 27), 0.7874908821368792), ((1, 28), 0.10821950344039166), ((1, 29), 0.7421270328169078), ((1, 30), 0.25466204907471734), ((1, 31), 0.5806758210145639), ((1, 32), 0.74744127864222), ((1, 33), 0.5247233666775141), ((1, 34), 0.12688236162193184), ((1, 35), 0.0018855568407946338), ((1, 36), 0.0818658309633812), ((1, 37), 0.3783384593843622), ((1, 38), 0.02890022607325514), ((1, 39), 0.29564285488546993), ((0, 0), 0.09659109081403854), ((0, 1), 0.16157217567994017), ((0, 2), 0.18220681308520922), ((0, 3), 0.18492406261651487), ((0, 4), 0.011453408033232176), ((0, 5), 0.1966611386383315), ((0, 6), 0.15014525341126542), ((0, 7), 0.10209777866492992), ((0, 8), 0.20618898710562464), ((0, 9), 0.18064714395880183), ((0, 10), 0.006906757900475555), ((0, 11), 0.00622480640758781), ((0, 12), 0.1866511630023471), ((0, 13), 0.1809191219668319), ((0, 14), 0.22703744391075814), ((0, 15), 0.011458867542408935), ((0, 16), 0.0377656005338758), ((0, 17), 0.01949549369671667), ((0, 18), 0.20384498257959047), ((0, 19), 0.1738984109653722), ((0, 20), 0.02605050728093053), ((0, 21), 0.1336232717589626), ((0, 22), 0.11304842718630939), ((0, 23), 0.07121524789176226), ((0, 24), 0.1574946072762327), ((0, 25), 0.09356730710669073), ((0, 26), 0.2212781746184728), ((0, 27), 0.1922646561876504), ((0, 28), 0.21180957162219813), ((0, 29), 0.145835153807457), ((0, 30), 0.1316851598928384), ((0, 31), 0.14082905995571576), ((0, 32), 0.18839993549176262), ((0, 33), 0.19042753510477373), ((0, 34), 0.19764381152980182), ((0, 35), 0.17369903321129992), ((0, 36), 0.1482800219812616), ((0, 37), 0.10243554448916632), ((0, 38), 0.02359359531860992), ((0, 39), 0.10357169207228649), ((1, 0), 0.10845482005323237), ((1, 1), 0.18141715857328664), ((1, 2), 0.20458623004552737), ((1, 3), 0.20763722373939558), ((1, 4), 0.012860164397893972), ((1, 5), 0.22081589743662047), ((1, 6), 0.1685867330343789), ((1, 7), 0.11463786276374026), ((1, 8), 0.2315139968400549), ((1, 9), 0.2028349957130281), ((1, 10), 0.007755075327697277), ((1, 11), 0.006989363647428893), ((1, 12), 0.2095764539518375), ((1, 13), 0.2031403792185952), ((1, 14), 0.25492314992169407), ((1, 15), 0.012866294467244615), ((1, 16), 0.0424041324679653), ((1, 17), 0.021890013280800726), ((1, 18), 0.22888209169298046), ((1, 19), 0.1952573545846256), ((1, 20), 0.02925014155692826), ((1, 21), 0.15003545121405937), ((1, 22), 0.126933516584846), ((1, 23), 0.0799622080054702), ((1, 24), 0.17683876584832772), ((1, 25), 0.105059642350025), ((1, 26), 0.24845650264119631), ((1, 27), 0.2158794202829065), ((1, 28), 0.23782492548990883), ((1, 29), 0.16374724863677018), ((1, 30), 0.14785929219243474), ((1, 31), 0.15812628501285303), ((1, 32), 0.21154001812794507), ((1, 33), 0.21381665616273537), ((1, 34), 0.22191926639867918), ((1, 35), 0.195033488405475), ((1, 36), 0.16649240593450013), ((1, 37), 0.11501711442534761), ((1, 38), 0.02649146120127182), ((1, 39), 0.1162928084944667)]), (1, [((0, 0), 0.5074537428363272), ((0, 1), 0.06904251199497956), ((0, 2), 0.4812305815189595), ((0, 3), 0.558511166246608), ((0, 4), 0.22972527567177578), ((0, 5), 0.6926951994312366), ((0, 6), 0.5877946373545335), ((0, 7), 0.7356989080968671), ((0, 8), 0.5443589791625604), ((0, 9), 0.08322901479359607), ((0, 10), 0.13519545076817543), ((0, 11), 0.6663309974402712), ((0, 12), 0.24216600545405742), ((0, 13), 0.6178562448880234), ((0, 14), 0.11960568580608764), ((0, 15), 0.1405754114312128), ((0, 16), 0.2660205401085156), ((0, 17), 0.1747949985259031), ((0, 18), 0.7673822399045332), ((0, 19), 0.6110076021413642), ((0, 20), 0.3131304439805669), ((0, 21), 0.17804328009593143), ((0, 22), 0.410192528222202), ((0, 23), 0.7877350426285519), ((0, 24), 0.5979855671754168), ((0, 25), 0.6699139245338267), ((0, 26), 0.28507006791106904), ((0, 27), 0.012702815931243247), ((0, 28), 0.4320859584196515), ((0, 29), 0.023098112570460017), ((0, 30), 0.4353059765397293), ((0, 31), 0.1490480746088016), ((0, 32), 0.4541125894167788), ((0, 33), 0.5150718438386848), ((0, 34), 0.37228829860302015), ((0, 35), 0.58580266867478), ((0, 36), 0.4227334579258599), ((0, 37), 0.6536921731702887), ((0, 38), 0.22090506510028868), ((0, 39), 0.3697381191256357), ((1, 0), 0.032558538397865135), ((1, 1), 0.004429809237999148), ((1, 2), 0.030876044541592002), ((1, 3), 0.03583441349794467), ((1, 4), 0.014739312330448395), ((1, 5), 0.044443742049554646), ((1, 6), 0.03771325867733215), ((1, 7), 0.04720288595105531), ((1, 8), 0.034926400633532015), ((1, 9), 0.005340023819368695), ((1, 10), 0.008674221714179099), ((1, 11), 0.0427521989385429), ((1, 12), 0.015537517061484393), ((1, 13), 0.03964202955940321), ((1, 14), 0.00767397298550721), ((1, 15), 0.00901940323722287), ((1, 16), 0.017068038401556344), ((1, 17), 0.011214952597356206), ((1, 18), 0.049235707641297366), ((1, 19), 0.039202616507498136), ((1, 20), 0.020090638265663825), ((1, 21), 0.011423364303285739), ((1, 22), 0.026318200169325612), ((1, 23), 0.05054155574735393), ((1, 24), 0.03836711488504997), ((1, 25), 0.04298208170322654), ((1, 26), 0.01829026760210178), ((1, 27), 0.0008150203365270929), ((1, 28), 0.027722895863873973), ((1, 29), 0.0014819888426482553), ((1, 30), 0.02792949416979718), ((1, 31), 0.009563014420102012), ((1, 32), 0.02913613780211875), ((1, 33), 0.03304732035583776), ((1, 34), 0.023886241921072682), ((1, 35), 0.03758545276465014), ((1, 36), 0.027122833787789576), ((1, 37), 0.041941284345622415), ((1, 38), 0.01417340229702562), ((1, 39), 0.023722620866724383)])]\n",
            "aa (0, [((0, 0), 0.5409688396516846), ((0, 1), 0.441185527701592), ((0, 2), 0.4910468588748887), ((0, 3), 0.4801939333926947), ((0, 4), 0.6950785530075944), ((0, 5), 0.588347636140214), ((0, 6), 0.5204682823169958), ((0, 7), 0.03346097225018539), ((0, 8), 0.061217039746889676), ((0, 9), 0.13793607495149351), ((0, 10), 0.14942634958329193), ((0, 11), 0.07471615324234389), ((0, 12), 0.5818660446490205), ((0, 13), 0.4873849685529308), ((0, 14), 0.20507872772684926), ((0, 15), 0.6130156788504186), ((0, 16), 0.5057341253934137), ((0, 17), 0.029269564402916882), ((0, 18), 0.42354084309763174), ((0, 19), 0.3529006750426488), ((0, 20), 0.20641716200374066), ((0, 21), 0.34781947974095917), ((0, 22), 0.39261276602193473), ((0, 23), 0.2770538148416106), ((0, 24), 0.5761187812850077), ((0, 25), 0.1822449061379207), ((0, 26), 0.44774034585808437), ((0, 27), 0.6729133102378071), ((0, 28), 0.09247388883381122), ((0, 29), 0.634149765537203), ((0, 30), 0.2176094813565406), ((0, 31), 0.4961892229579474), ((0, 32), 0.6386908044632978), ((0, 33), 0.4483776836526205), ((0, 34), 0.10842135687732829), ((0, 35), 0.0016112139507414858), ((0, 36), 0.06995459701000357), ((0, 37), 0.3232913432645325), ((0, 38), 0.02469532947582093), ((0, 39), 0.2526277022907266), ((1, 0), 0.6330801044718793), ((1, 1), 0.5163065956786764), ((1, 2), 0.5746578618414786), ((1, 3), 0.5619569986965388), ((1, 4), 0.8134302212998826), ((1, 5), 0.6885261324723513), ((1, 6), 0.6090888982731396), ((1, 7), 0.03915840295259427), ((1, 8), 0.07164052174127739), ((1, 9), 0.16142257804896573), ((1, 10), 0.17486931237287473), ((1, 11), 0.08743814178069123), ((1, 12), 0.6809409144013235), ((1, 13), 0.5703724580664989), ((1, 14), 0.23999767243131548), ((1, 15), 0.7173944256371634), ((1, 16), 0.5918459428184549), ((1, 17), 0.03425332021337121), ((1, 18), 0.49565753430271825), ((1, 19), 0.4129893994782536), ((1, 20), 0.24156400315082371), ((1, 21), 0.4070430243515329), ((1, 22), 0.4594633049293525), ((1, 23), 0.32422802421890545), ((1, 24), 0.6742150591870762), ((1, 25), 0.2132759149150808), ((1, 26), 0.5239775087870512), ((1, 27), 0.7874908821368792), ((1, 28), 0.10821950344039166), ((1, 29), 0.7421270328169078), ((1, 30), 0.25466204907471734), ((1, 31), 0.5806758210145639), ((1, 32), 0.74744127864222), ((1, 33), 0.5247233666775141), ((1, 34), 0.12688236162193184), ((1, 35), 0.0018855568407946338), ((1, 36), 0.0818658309633812), ((1, 37), 0.3783384593843622), ((1, 38), 0.02890022607325514), ((1, 39), 0.29564285488546993), ((0, 0), 0.09659109081403854), ((0, 1), 0.16157217567994017), ((0, 2), 0.18220681308520922), ((0, 3), 0.18492406261651487), ((0, 4), 0.011453408033232176), ((0, 5), 0.1966611386383315), ((0, 6), 0.15014525341126542), ((0, 7), 0.10209777866492992), ((0, 8), 0.20618898710562464), ((0, 9), 0.18064714395880183), ((0, 10), 0.006906757900475555), ((0, 11), 0.00622480640758781), ((0, 12), 0.1866511630023471), ((0, 13), 0.1809191219668319), ((0, 14), 0.22703744391075814), ((0, 15), 0.011458867542408935), ((0, 16), 0.0377656005338758), ((0, 17), 0.01949549369671667), ((0, 18), 0.20384498257959047), ((0, 19), 0.1738984109653722), ((0, 20), 0.02605050728093053), ((0, 21), 0.1336232717589626), ((0, 22), 0.11304842718630939), ((0, 23), 0.07121524789176226), ((0, 24), 0.1574946072762327), ((0, 25), 0.09356730710669073), ((0, 26), 0.2212781746184728), ((0, 27), 0.1922646561876504), ((0, 28), 0.21180957162219813), ((0, 29), 0.145835153807457), ((0, 30), 0.1316851598928384), ((0, 31), 0.14082905995571576), ((0, 32), 0.18839993549176262), ((0, 33), 0.19042753510477373), ((0, 34), 0.19764381152980182), ((0, 35), 0.17369903321129992), ((0, 36), 0.1482800219812616), ((0, 37), 0.10243554448916632), ((0, 38), 0.02359359531860992), ((0, 39), 0.10357169207228649), ((1, 0), 0.10845482005323237), ((1, 1), 0.18141715857328664), ((1, 2), 0.20458623004552737), ((1, 3), 0.20763722373939558), ((1, 4), 0.012860164397893972), ((1, 5), 0.22081589743662047), ((1, 6), 0.1685867330343789), ((1, 7), 0.11463786276374026), ((1, 8), 0.2315139968400549), ((1, 9), 0.2028349957130281), ((1, 10), 0.007755075327697277), ((1, 11), 0.006989363647428893), ((1, 12), 0.2095764539518375), ((1, 13), 0.2031403792185952), ((1, 14), 0.25492314992169407), ((1, 15), 0.012866294467244615), ((1, 16), 0.0424041324679653), ((1, 17), 0.021890013280800726), ((1, 18), 0.22888209169298046), ((1, 19), 0.1952573545846256), ((1, 20), 0.02925014155692826), ((1, 21), 0.15003545121405937), ((1, 22), 0.126933516584846), ((1, 23), 0.0799622080054702), ((1, 24), 0.17683876584832772), ((1, 25), 0.105059642350025), ((1, 26), 0.24845650264119631), ((1, 27), 0.2158794202829065), ((1, 28), 0.23782492548990883), ((1, 29), 0.16374724863677018), ((1, 30), 0.14785929219243474), ((1, 31), 0.15812628501285303), ((1, 32), 0.21154001812794507), ((1, 33), 0.21381665616273537), ((1, 34), 0.22191926639867918), ((1, 35), 0.195033488405475), ((1, 36), 0.16649240593450013), ((1, 37), 0.11501711442534761), ((1, 38), 0.02649146120127182), ((1, 39), 0.1162928084944667)])\n",
            "aa (1, [((0, 0), 0.5074537428363272), ((0, 1), 0.06904251199497956), ((0, 2), 0.4812305815189595), ((0, 3), 0.558511166246608), ((0, 4), 0.22972527567177578), ((0, 5), 0.6926951994312366), ((0, 6), 0.5877946373545335), ((0, 7), 0.7356989080968671), ((0, 8), 0.5443589791625604), ((0, 9), 0.08322901479359607), ((0, 10), 0.13519545076817543), ((0, 11), 0.6663309974402712), ((0, 12), 0.24216600545405742), ((0, 13), 0.6178562448880234), ((0, 14), 0.11960568580608764), ((0, 15), 0.1405754114312128), ((0, 16), 0.2660205401085156), ((0, 17), 0.1747949985259031), ((0, 18), 0.7673822399045332), ((0, 19), 0.6110076021413642), ((0, 20), 0.3131304439805669), ((0, 21), 0.17804328009593143), ((0, 22), 0.410192528222202), ((0, 23), 0.7877350426285519), ((0, 24), 0.5979855671754168), ((0, 25), 0.6699139245338267), ((0, 26), 0.28507006791106904), ((0, 27), 0.012702815931243247), ((0, 28), 0.4320859584196515), ((0, 29), 0.023098112570460017), ((0, 30), 0.4353059765397293), ((0, 31), 0.1490480746088016), ((0, 32), 0.4541125894167788), ((0, 33), 0.5150718438386848), ((0, 34), 0.37228829860302015), ((0, 35), 0.58580266867478), ((0, 36), 0.4227334579258599), ((0, 37), 0.6536921731702887), ((0, 38), 0.22090506510028868), ((0, 39), 0.3697381191256357), ((1, 0), 0.032558538397865135), ((1, 1), 0.004429809237999148), ((1, 2), 0.030876044541592002), ((1, 3), 0.03583441349794467), ((1, 4), 0.014739312330448395), ((1, 5), 0.044443742049554646), ((1, 6), 0.03771325867733215), ((1, 7), 0.04720288595105531), ((1, 8), 0.034926400633532015), ((1, 9), 0.005340023819368695), ((1, 10), 0.008674221714179099), ((1, 11), 0.0427521989385429), ((1, 12), 0.015537517061484393), ((1, 13), 0.03964202955940321), ((1, 14), 0.00767397298550721), ((1, 15), 0.00901940323722287), ((1, 16), 0.017068038401556344), ((1, 17), 0.011214952597356206), ((1, 18), 0.049235707641297366), ((1, 19), 0.039202616507498136), ((1, 20), 0.020090638265663825), ((1, 21), 0.011423364303285739), ((1, 22), 0.026318200169325612), ((1, 23), 0.05054155574735393), ((1, 24), 0.03836711488504997), ((1, 25), 0.04298208170322654), ((1, 26), 0.01829026760210178), ((1, 27), 0.0008150203365270929), ((1, 28), 0.027722895863873973), ((1, 29), 0.0014819888426482553), ((1, 30), 0.02792949416979718), ((1, 31), 0.009563014420102012), ((1, 32), 0.02913613780211875), ((1, 33), 0.03304732035583776), ((1, 34), 0.023886241921072682), ((1, 35), 0.03758545276465014), ((1, 36), 0.027122833787789576), ((1, 37), 0.041941284345622415), ((1, 38), 0.01417340229702562), ((1, 39), 0.023722620866724383)])\n",
            "240 key-value pairs were sent over a network.\n",
            "[(0, [((0, 1), 0.6718002153765117), ((0, 2), 1.1544842534790574), ((0, 4), 0.9362572367126023), ((0, 5), 1.4777039742097822), ((0, 8), 0.8117650060150747), ((0, 9), 0.4018122337038914), ((0, 11), 0.7472719570902029), ((0, 12), 1.010683213105425), ((0, 15), 0.7650499578240404), ((0, 16), 0.8095202660358051), ((0, 18), 1.3947680655817556), ((0, 19), 1.1378066881493853), ((0, 22), 0.9158537214304461), ((0, 23), 1.1360041053619248), ((0, 25), 0.9457261377784381), ((0, 26), 0.9540885883876262), ((0, 29), 0.8030830319151201), ((0, 32), 1.2812033293718392), ((0, 33), 1.153877062596079), ((0, 36), 0.6409680769171251), ((0, 39), 0.7259375134886488), ((1, 0), 0.7740934629229769), ((1, 1), 0.7021535634899623), ((1, 3), 0.8054286359338791), ((1, 4), 0.841029698028225), ((1, 7), 0.20099915166738985), ((1, 10), 0.1912986094147511), ((1, 11), 0.13717970436666302), ((1, 14), 0.5025947953385168), ((1, 17), 0.06735828609152815), ((1, 18), 0.773775333636996), ((1, 21), 0.5685018398688779), ((1, 24), 0.8894209399204539), ((1, 25), 0.36131763896833236), ((1, 27), 1.004185322756313), ((1, 28), 0.3737673247941745), ((1, 31), 0.748365120447519), ((1, 32), 0.9881174345722838), ((1, 34), 0.3726878699416837), ((1, 35), 0.23450449801091977), ((1, 38), 0.06956508957155258), ((1, 39), 0.43565828424666103)]), (1, [((0, 0), 1.1450136733020502), ((0, 3), 1.2236291622558175), ((0, 6), 1.2584081730827947), ((0, 7), 0.8712576590119825), ((0, 10), 0.2915285582519429), ((0, 13), 1.2861603354077862), ((0, 14), 0.5517218574436951), ((0, 17), 0.22356005662553666), ((0, 20), 0.5455981132652381), ((0, 21), 0.6594860315958532), ((0, 24), 1.3315989557366572), ((0, 27), 0.8778807823567008), ((0, 28), 0.7363694188756609), ((0, 30), 0.7846006177891083), ((0, 31), 0.7860663575224647), ((0, 34), 0.6783534670101503), ((0, 35), 0.7611129158368215), ((0, 37), 1.0794190609239875), ((0, 38), 0.26919398989471954), ((1, 2), 0.8101201364285979), ((1, 5), 0.9537857719585263), ((1, 6), 0.8153888899848506), ((1, 8), 0.3380809192148643), ((1, 9), 0.36959759758136257), ((1, 12), 0.9060548854146455), ((1, 13), 0.8131548668444973), ((1, 15), 0.7392801233416308), ((1, 16), 0.6513181136879765), ((1, 19), 0.6474493705703773), ((1, 20), 0.2909047829734158), ((1, 22), 0.6127150216835241), ((1, 23), 0.4547317879717296), ((1, 26), 0.7907242790303493), ((1, 29), 0.9073562702963263), ((1, 30), 0.4304508354369493), ((1, 33), 0.7715873431960872), ((1, 36), 0.2754810706856709), ((1, 37), 0.5352968581553322)])]\n",
            "[((0, 1), 0.6718002153765117), ((0, 2), 1.1544842534790574), ((0, 4), 0.9362572367126023), ((0, 5), 1.4777039742097822), ((0, 8), 0.8117650060150747), ((0, 9), 0.4018122337038914), ((0, 11), 0.7472719570902029), ((0, 12), 1.010683213105425), ((0, 15), 0.7650499578240404), ((0, 16), 0.8095202660358051), ((0, 18), 1.3947680655817556), ((0, 19), 1.1378066881493853), ((0, 22), 0.9158537214304461), ((0, 23), 1.1360041053619248), ((0, 25), 0.9457261377784381), ((0, 26), 0.9540885883876262), ((0, 29), 0.8030830319151201), ((0, 32), 1.2812033293718392), ((0, 33), 1.153877062596079), ((0, 36), 0.6409680769171251), ((0, 39), 0.7259375134886488), ((1, 0), 0.7740934629229769), ((1, 1), 0.7021535634899623), ((1, 3), 0.8054286359338791), ((1, 4), 0.841029698028225), ((1, 7), 0.20099915166738985), ((1, 10), 0.1912986094147511), ((1, 11), 0.13717970436666302), ((1, 14), 0.5025947953385168), ((1, 17), 0.06735828609152815), ((1, 18), 0.773775333636996), ((1, 21), 0.5685018398688779), ((1, 24), 0.8894209399204539), ((1, 25), 0.36131763896833236), ((1, 27), 1.004185322756313), ((1, 28), 0.3737673247941745), ((1, 31), 0.748365120447519), ((1, 32), 0.9881174345722838), ((1, 34), 0.3726878699416837), ((1, 35), 0.23450449801091977), ((1, 38), 0.06956508957155258), ((1, 39), 0.43565828424666103), ((0, 0), 1.1450136733020502), ((0, 3), 1.2236291622558175), ((0, 6), 1.2584081730827947), ((0, 7), 0.8712576590119825), ((0, 10), 0.2915285582519429), ((0, 13), 1.2861603354077862), ((0, 14), 0.5517218574436951), ((0, 17), 0.22356005662553666), ((0, 20), 0.5455981132652381), ((0, 21), 0.6594860315958532), ((0, 24), 1.3315989557366572), ((0, 27), 0.8778807823567008), ((0, 28), 0.7363694188756609), ((0, 30), 0.7846006177891083), ((0, 31), 0.7860663575224647), ((0, 34), 0.6783534670101503), ((0, 35), 0.7611129158368215), ((0, 37), 1.0794190609239875), ((0, 38), 0.26919398989471954), ((1, 2), 0.8101201364285979), ((1, 5), 0.9537857719585263), ((1, 6), 0.8153888899848506), ((1, 8), 0.3380809192148643), ((1, 9), 0.36959759758136257), ((1, 12), 0.9060548854146455), ((1, 13), 0.8131548668444973), ((1, 15), 0.7392801233416308), ((1, 16), 0.6513181136879765), ((1, 19), 0.6474493705703773), ((1, 20), 0.2909047829734158), ((1, 22), 0.6127150216835241), ((1, 23), 0.4547317879717296), ((1, 26), 0.7907242790303493), ((1, 29), 0.9073562702963263), ((1, 30), 0.4304508354369493), ((1, 33), 0.7715873431960872), ((1, 36), 0.2754810706856709), ((1, 37), 0.5352968581553322)]\n"
          ]
        },
        {
          "output_type": "execute_result",
          "data": {
            "text/plain": [
              "True"
            ]
          },
          "metadata": {},
          "execution_count": 58
        }
      ]
    },
    {
      "cell_type": "markdown",
      "metadata": {
        "id": "ZuSA2P9Db6UM"
      },
      "source": [
        "Обобщите предыдущее решение на случай, когда каждая матрица генерируется несколькими RECORDREADER-ами, и проверьте его работоспособность. Будет ли работать решение, если RECORDREADER-ы будут генерировать случайное подмножество элементов матрицы?"
      ]
    },
    {
      "cell_type": "code",
      "metadata": {
        "id": "ehN0FqRDcwU5",
        "colab": {
          "base_uri": "https://localhost:8080/"
        },
        "outputId": "d514a0f1-4868-4cbc-8aca-a623d88d85a8"
      },
      "source": [
        "# Определение размеров матриц\n",
        "I = 2  # Количество строк первой матрицы и строк в итоговой матрице\n",
        "J = 3  # Количество столбцов первой матрицы и строк второй матрицы\n",
        "K = 4*10  # Количество столбцов второй матрицы и столбцов в итоговой матрице\n",
        "\n",
        "# Генерация случайных матриц\n",
        "small_mat = np.random.rand(I, J)  # Генерация первой матрицы\n",
        "big_mat = np.random.rand(J, K)  # Генерация второй матрицы\n",
        "\n",
        "# Получение эталонного решения через умножение матриц\n",
        "reference_solution = np.matmul(small_mat, big_mat)\n",
        "\n",
        "# Функция для \"разглаживания\" вложенных итерируемых объектов\n",
        "def flatten(nested_iterable):\n",
        "  for iterable in nested_iterable:\n",
        "    for element in iterable:\n",
        "      yield element\n",
        "\n",
        "# Функция для группировки элементов по ключу\n",
        "def groupbykey(iterable):\n",
        "  t = {}\n",
        "  for (k2, v2) in iterable:\n",
        "    t[k2] = t.get(k2, []) + [v2]\n",
        "  return t.items()\n",
        "\n",
        "# Функция для распределенной группировки элементов по ключу\n",
        "def groupbykey_distributed(map_partitions, PARTITIONER):\n",
        "  global reducers\n",
        "  partitions = [dict() for _ in range(reducers)]\n",
        "  for map_partition in map_partitions:\n",
        "    for (k2, v2) in map_partition:\n",
        "      p = partitions[PARTITIONER(k2)]\n",
        "      p[k2] = p.get(k2, []) + [v2]\n",
        "  return [(partition_id, sorted(partition.items(), key=lambda x: x[0])) for (partition_id, partition) in enumerate(partitions)]\n",
        "\n",
        "# Функция для определения разделителя (по ключу)\n",
        "def PARTITIONER(obj):\n",
        "  global reducers\n",
        "  return hash(obj) % reducers\n",
        "\n",
        "# Функция для выполнения MapReduce на распределенных данных\n",
        "def MapReduceDistributed(INPUTFORMAT, MAP, REDUCE, PARTITIONER=PARTITIONER, COMBINER=None):\n",
        "  map_partitions = map(lambda record_reader: flatten(map(lambda k1v1: MAP(*k1v1), record_reader)), INPUTFORMAT())\n",
        "\n",
        "  if COMBINER != None:\n",
        "    map_partitions = map(lambda map_partition: flatten(map(lambda k2v2: COMBINER(*k2v2), groupbykey(map_partition))), map_partitions)\n",
        "\n",
        "  reduce_partitions = groupbykey_distributed(map_partitions, PARTITIONER)  # shuffle\n",
        "\n",
        "  reduce_outputs = map(lambda reduce_partition: (reduce_partition[0], flatten(map(lambda reduce_input_group: REDUCE(*reduce_input_group), reduce_partition[1]))), reduce_partitions)\n",
        "\n",
        "  print(\"{} key-value pairs were sent over a network.\".format(sum([len(vs) for (k,vs) in flatten([partition for (partition_id, partition) in reduce_partitions])])))\n",
        "  return reduce_outputs\n",
        "\n",
        "# Функция для преобразования результата REDUCE в матрицу\n",
        "def asmatrix(reduce_output):\n",
        "  reduce_output = list(reduce_output)\n",
        "  I = max(i for ((i,k), vw) in reduce_output) + 1\n",
        "  K = max(k for ((i,k), vw) in reduce_output) + 1\n",
        "  mat = np.empty(shape=(I,K))\n",
        "  for ((i,k), vw) in reduce_output:\n",
        "    mat[i,k] = vw\n",
        "  return mat\n",
        "\n",
        "# Генератор для вводных данных\n",
        "def INPUTFORMAT():\n",
        "  first_mat = []\n",
        "\n",
        "  for i in range(small_mat.shape[0]):\n",
        "    for j in range(small_mat.shape[1]):\n",
        "      first_mat.append(((0, i, j), small_mat[i,j]))  # первая матрица\n",
        "\n",
        "  global maps\n",
        "  split_size = int(np.ceil(len(first_mat)/maps))\n",
        "\n",
        "  for i in range(0, len(first_mat), split_size):\n",
        "    yield first_mat[i:i+split_size]\n",
        "\n",
        "  second_mat = []\n",
        "\n",
        "  for j in range(big_mat.shape[0]):\n",
        "    for k in range(big_mat.shape[1]):\n",
        "      second_mat.append(((1, j, k), big_mat[j,k]))  # вторая матрица\n",
        "\n",
        "  split_size = int(np.ceil(len(second_mat)/maps))\n",
        "\n",
        "  for i in range(0, len(second_mat), split_size):\n",
        "    yield second_mat[i:i+split_size]\n",
        "\n",
        "# MAP функция для соединения матриц\n",
        "def MAP_JOIN(k1, v1):\n",
        "  (mat_num, i, j) = k1\n",
        "  w = v1\n",
        "\n",
        "  if mat_num == 0:\n",
        "    yield (j, (mat_num, i, w))\n",
        "\n",
        "  else:\n",
        "    yield (i, (mat_num, j, w))\n",
        "\n",
        "# REDUCE функция для соединения матриц\n",
        "def REDUCE_JOIN(key, values):\n",
        "  from_first_mat = [v for v in values if v[0] == 0]\n",
        "  from_second_mat = [v for v in values if v[0] == 1]\n",
        "\n",
        "  for f in from_first_mat:\n",
        "    for s in from_second_mat:\n",
        "      yield ((f[1], s[1]), f[2] * s[2])\n",
        "\n",
        "# Генератор для получения соединенных данных\n",
        "def GET_JOINED():\n",
        "\n",
        "  for j in joined:\n",
        "    print(\"aa\", j)\n",
        "    yield j[1]\n",
        "\n",
        "# MAP функция для умножения значений\n",
        "def MAP_MUL(k1, v1):\n",
        "  yield (k1, v1)\n",
        "\n",
        "# REDUCE функция для умножения значений\n",
        "def REDUCE_MUL(key, values):\n",
        "  res_val = 0\n",
        "\n",
        "  for v in values:\n",
        "    res_val += v\n",
        "  yield (key, res_val)\n",
        "\n",
        "maps = 3\n",
        "reducers = 2\n",
        "\n",
        "# Выполнение MapReduce для соединения матриц\n",
        "partitioned_output = MapReduceDistributed(INPUTFORMAT, MAP_JOIN, REDUCE_JOIN, COMBINER=None)\n",
        "joined = [(partition_id, list(partition)) for (partition_id, partition) in partitioned_output]\n",
        "print(joined)\n",
        "\n",
        "# Выполнение MapReduce для умножения значений\n",
        "mul_output = MapReduceDistributed(GET_JOINED, MAP_MUL, REDUCE_MUL, COMBINER=None)\n",
        "pre_result = [(partition_id, list(partition)) for (partition_id, partition) in mul_output]\n",
        "print(pre_result)\n",
        "\n",
        "solution = []\n",
        "\n",
        "for p in pre_result:\n",
        "\n",
        "  for v in p[1]:\n",
        "    solution.append(v)\n",
        "\n",
        "print(solution)\n",
        "\n",
        "np.allclose(reference_solution, asmatrix(solution))"
      ],
      "execution_count": null,
      "outputs": [
        {
          "output_type": "stream",
          "name": "stdout",
          "text": [
            "126 key-value pairs were sent over a network.\n",
            "[(0, [((0, 0), 0.2838202541303115), ((0, 1), 0.1381410394140817), ((0, 2), 0.2774778820554505), ((0, 3), 0.44759213567133715), ((0, 4), 0.3277371368240059), ((0, 5), 0.41269877350304696), ((0, 6), 0.14212818367980362), ((0, 7), 0.40495316556192773), ((0, 8), 0.11648499674352768), ((0, 9), 0.01964134414232802), ((0, 10), 0.5545778383431961), ((0, 11), 0.48008136642785454), ((0, 12), 0.26123163021718354), ((0, 13), 0.3125302622068577), ((0, 14), 0.2870375361988848), ((0, 15), 0.26784467509945087), ((0, 16), 0.5182267894839125), ((0, 17), 0.15003975786544882), ((0, 18), 0.28924179262432503), ((0, 19), 0.48919192086778246), ((0, 20), 0.6303093268706532), ((0, 21), 0.4238259018538415), ((0, 22), 0.13505412274748563), ((0, 23), 0.24080313067569836), ((0, 24), 0.4876947633971493), ((0, 25), 0.35048821048890794), ((0, 26), 0.364454279951223), ((0, 27), 0.695607132412629), ((0, 28), 0.3703318372705892), ((0, 29), 0.03339466198160071), ((0, 30), 0.5521014346603034), ((0, 31), 0.5093398321399412), ((0, 32), 0.5470933217734509), ((0, 33), 0.3278195660794684), ((0, 34), 0.6070794557421997), ((0, 35), 0.32367892996389364), ((0, 36), 0.30989485601180283), ((0, 37), 0.2663599745098243), ((0, 38), 0.045369548196650344), ((0, 39), 0.6726488552134816), ((1, 0), 0.38474416651802384), ((1, 1), 0.18726274216815358), ((1, 2), 0.37614650436326724), ((1, 3), 0.6067518461872144), ((1, 4), 0.4442774950319833), ((1, 5), 0.5594507203898762), ((1, 6), 0.19266767883133468), ((1, 7), 0.5489508444010645), ((1, 8), 0.157906006818549), ((1, 9), 0.026625628267755826), ((1, 10), 0.7517806959779364), ((1, 11), 0.650793953212067), ((1, 12), 0.3541232324804719), ((1, 13), 0.42366319349861736), ((1, 14), 0.3891054849578216), ((1, 15), 0.3630878162420171), ((1, 16), 0.7025035433015822), ((1, 17), 0.20339253715840813), ((1, 18), 0.39209355500869486), ((1, 19), 0.663144138315128), ((1, 20), 0.8544416160801638), ((1, 21), 0.5745345548265121), ((1, 22), 0.18307814588682264), ((1, 23), 0.32643054348127915), ((1, 24), 0.6611146052046385), ((1, 25), 0.4751186444820642), ((1, 26), 0.49405092178297927), ((1, 27), 0.9429587300038538), ((1, 28), 0.5020184852640661), ((1, 29), 0.04526950139493205), ((1, 30), 0.7484237055691432), ((1, 31), 0.6904564643971371), ((1, 32), 0.7416347530879874), ((1, 33), 0.4443892353842946), ((1, 34), 0.8229514131239843), ((1, 35), 0.43877622655931553), ((1, 36), 0.42009066072409845), ((1, 37), 0.3610751695666236), ((1, 38), 0.061502548715938576), ((1, 39), 0.9118366973189697), ((0, 0), 0.4168898423286862), ((0, 1), 0.43498926929443915), ((0, 2), 0.435995734223631), ((0, 3), 0.30717385827617194), ((0, 4), 0.12905109563579018), ((0, 5), 0.3240488047328861), ((0, 6), 0.05201385827002178), ((0, 7), 0.8852614843796234), ((0, 8), 0.9313259494937963), ((0, 9), 0.543578298237535), ((0, 10), 0.9543310647508684), ((0, 11), 0.6807768487898713), ((0, 12), 0.25343276645920176), ((0, 13), 0.003928984319600595), ((0, 14), 0.07809079379589355), ((0, 15), 0.6515231168339506), ((0, 16), 0.3915726013474198), ((0, 17), 0.3114002001616484), ((0, 18), 0.20621435342177627), ((0, 19), 0.14246717806674303), ((0, 20), 0.23690864307832507), ((0, 21), 0.6683737166725636), ((0, 22), 0.8739984816479559), ((0, 23), 0.31631571138270337), ((0, 24), 0.6286082171111416), ((0, 25), 0.10311043293522762), ((0, 26), 0.8889328630807032), ((0, 27), 0.6419990369581923), ((0, 28), 0.7385288177784491), ((0, 29), 0.7568953150554455), ((0, 30), 0.8149547338727775), ((0, 31), 0.12370666549168075), ((0, 32), 0.21848562918463785), ((0, 33), 0.37848359382681424), ((0, 34), 0.18691571653749578), ((0, 35), 0.17637991231142824), ((0, 36), 0.9310727864061533), ((0, 37), 0.9300331264968805), ((0, 38), 0.9506427860820927), ((0, 39), 0.2113005712088491), ((1, 0), 0.35092273947771113), ((1, 1), 0.3661581802318447), ((1, 2), 0.3670053858825446), ((1, 3), 0.2585678059222771), ((1, 4), 0.10863052877504804), ((1, 5), 0.272772523422832), ((1, 6), 0.043783378201214244), ((1, 7), 0.7451809895806282), ((1, 8), 0.7839563845390308), ((1, 9), 0.457564483875702), ((1, 10), 0.803321255659223), ((1, 11), 0.5730532445115093), ((1, 12), 0.21333050520611935), ((1, 13), 0.003307276409273018), ((1, 14), 0.06573399614097135), ((1, 15), 0.5484285146294496), ((1, 16), 0.32961160483471663), ((1, 17), 0.2621253871387834), ((1, 18), 0.17358375876507937), ((1, 19), 0.119923700068046), ((1, 20), 0.19942109783870954), ((1, 21), 0.562612738030476), ((1, 22), 0.7357002026387734), ((1, 23), 0.2662630860905992), ((1, 24), 0.5291395836718917), ((1, 25), 0.08679462035401356), ((1, 26), 0.7482714229292711), ((1, 27), 0.5404114898385923), ((1, 28), 0.6216667560676987), ((1, 29), 0.637127006917303), ((1, 30), 0.6859993185813476), ((1, 31), 0.10413178144015983), ((1, 32), 0.18391327335227975), ((1, 33), 0.3185937533310241), ((1, 34), 0.15733886662333746), ((1, 35), 0.14847020899195898), ((1, 36), 0.783743281039665), ((1, 37), 0.7828681330594475), ((1, 38), 0.8002165965311084), ((1, 39), 0.17786515230887465)]), (1, [((0, 0), 0.8293434056207216), ((0, 1), 0.5938627232624825), ((0, 2), 0.3073277235253728), ((0, 3), 0.2257303697844581), ((0, 4), 0.3176243084721864), ((0, 5), 0.4616669951709121), ((0, 6), 0.39245863610945375), ((0, 7), 0.5978140564952404), ((0, 8), 0.4433115482579272), ((0, 9), 0.7210454225944534), ((0, 10), 0.7136911478667654), ((0, 11), 0.19281576490176605), ((0, 12), 0.5406453626020281), ((0, 13), 0.21551603186641302), ((0, 14), 0.28175224298786833), ((0, 15), 0.3030295111551654), ((0, 16), 0.09054588991663137), ((0, 17), 0.023246560848294136), ((0, 18), 0.38278274142370466), ((0, 19), 0.6291389871821107), ((0, 20), 0.37314894081133776), ((0, 21), 0.5259744492055035), ((0, 22), 0.6874513919400608), ((0, 23), 0.6790990776225141), ((0, 24), 0.34601595793349416), ((0, 25), 0.6809830540775275), ((0, 26), 0.0815656908243071), ((0, 27), 0.17222956745329857), ((0, 28), 0.20634773157246344), ((0, 29), 0.23092186110688137), ((0, 30), 0.38985562465775353), ((0, 31), 0.6981237189317123), ((0, 32), 0.03649383364111875), ((0, 33), 0.6310817574229127), ((0, 34), 0.186483564619228), ((0, 35), 0.5721139045446759), ((0, 36), 0.17754818568030326), ((0, 37), 0.10212911288009038), ((0, 38), 0.4674234639192186), ((0, 39), 0.5245339173187884), ((1, 0), 0.22012840888234406), ((1, 1), 0.1576259670967833), ((1, 2), 0.0815724370949082), ((1, 3), 0.05991446582961097), ((1, 4), 0.08430540735294934), ((1, 5), 0.12253792625794589), ((1, 6), 0.10416830294110725), ((1, 7), 0.15867474941252374), ((1, 8), 0.11766593318982047), ((1, 9), 0.19138342516730877), ((1, 10), 0.18943141737015515), ((1, 11), 0.051178109390633574), ((1, 12), 0.1435007532858218), ((1, 13), 0.057203325982778774), ((1, 14), 0.07478406716398855), ((1, 15), 0.0804315844111107), ((1, 16), 0.024033135783199554), ((1, 17), 0.0061702166036897545), ((1, 18), 0.1016000793472958), ((1, 19), 0.1669891667018124), ((1, 20), 0.0990430285696353), ((1, 21), 0.13960672723950565), ((1, 22), 0.182466732195763), ((1, 23), 0.1802498198181567), ((1, 24), 0.09184125870126418), ((1, 25), 0.1807498741220834), ((1, 26), 0.021649567138121245), ((1, 27), 0.04571401953526511), ((1, 28), 0.054769830590900515), ((1, 29), 0.06129241700976922), ((1, 30), 0.10347739882915324), ((1, 31), 0.1852994337568082), ((1, 32), 0.009686372953582345), ((1, 33), 0.16750482634175567), ((1, 34), 0.04949738562352751), ((1, 35), 0.1518532885814968), ((1, 36), 0.04712571336417656), ((1, 37), 0.027107611836659298), ((1, 38), 0.12406583652739242), ((1, 39), 0.1392243741756026)])]\n",
            "aa (0, [((0, 0), 0.2838202541303115), ((0, 1), 0.1381410394140817), ((0, 2), 0.2774778820554505), ((0, 3), 0.44759213567133715), ((0, 4), 0.3277371368240059), ((0, 5), 0.41269877350304696), ((0, 6), 0.14212818367980362), ((0, 7), 0.40495316556192773), ((0, 8), 0.11648499674352768), ((0, 9), 0.01964134414232802), ((0, 10), 0.5545778383431961), ((0, 11), 0.48008136642785454), ((0, 12), 0.26123163021718354), ((0, 13), 0.3125302622068577), ((0, 14), 0.2870375361988848), ((0, 15), 0.26784467509945087), ((0, 16), 0.5182267894839125), ((0, 17), 0.15003975786544882), ((0, 18), 0.28924179262432503), ((0, 19), 0.48919192086778246), ((0, 20), 0.6303093268706532), ((0, 21), 0.4238259018538415), ((0, 22), 0.13505412274748563), ((0, 23), 0.24080313067569836), ((0, 24), 0.4876947633971493), ((0, 25), 0.35048821048890794), ((0, 26), 0.364454279951223), ((0, 27), 0.695607132412629), ((0, 28), 0.3703318372705892), ((0, 29), 0.03339466198160071), ((0, 30), 0.5521014346603034), ((0, 31), 0.5093398321399412), ((0, 32), 0.5470933217734509), ((0, 33), 0.3278195660794684), ((0, 34), 0.6070794557421997), ((0, 35), 0.32367892996389364), ((0, 36), 0.30989485601180283), ((0, 37), 0.2663599745098243), ((0, 38), 0.045369548196650344), ((0, 39), 0.6726488552134816), ((1, 0), 0.38474416651802384), ((1, 1), 0.18726274216815358), ((1, 2), 0.37614650436326724), ((1, 3), 0.6067518461872144), ((1, 4), 0.4442774950319833), ((1, 5), 0.5594507203898762), ((1, 6), 0.19266767883133468), ((1, 7), 0.5489508444010645), ((1, 8), 0.157906006818549), ((1, 9), 0.026625628267755826), ((1, 10), 0.7517806959779364), ((1, 11), 0.650793953212067), ((1, 12), 0.3541232324804719), ((1, 13), 0.42366319349861736), ((1, 14), 0.3891054849578216), ((1, 15), 0.3630878162420171), ((1, 16), 0.7025035433015822), ((1, 17), 0.20339253715840813), ((1, 18), 0.39209355500869486), ((1, 19), 0.663144138315128), ((1, 20), 0.8544416160801638), ((1, 21), 0.5745345548265121), ((1, 22), 0.18307814588682264), ((1, 23), 0.32643054348127915), ((1, 24), 0.6611146052046385), ((1, 25), 0.4751186444820642), ((1, 26), 0.49405092178297927), ((1, 27), 0.9429587300038538), ((1, 28), 0.5020184852640661), ((1, 29), 0.04526950139493205), ((1, 30), 0.7484237055691432), ((1, 31), 0.6904564643971371), ((1, 32), 0.7416347530879874), ((1, 33), 0.4443892353842946), ((1, 34), 0.8229514131239843), ((1, 35), 0.43877622655931553), ((1, 36), 0.42009066072409845), ((1, 37), 0.3610751695666236), ((1, 38), 0.061502548715938576), ((1, 39), 0.9118366973189697), ((0, 0), 0.4168898423286862), ((0, 1), 0.43498926929443915), ((0, 2), 0.435995734223631), ((0, 3), 0.30717385827617194), ((0, 4), 0.12905109563579018), ((0, 5), 0.3240488047328861), ((0, 6), 0.05201385827002178), ((0, 7), 0.8852614843796234), ((0, 8), 0.9313259494937963), ((0, 9), 0.543578298237535), ((0, 10), 0.9543310647508684), ((0, 11), 0.6807768487898713), ((0, 12), 0.25343276645920176), ((0, 13), 0.003928984319600595), ((0, 14), 0.07809079379589355), ((0, 15), 0.6515231168339506), ((0, 16), 0.3915726013474198), ((0, 17), 0.3114002001616484), ((0, 18), 0.20621435342177627), ((0, 19), 0.14246717806674303), ((0, 20), 0.23690864307832507), ((0, 21), 0.6683737166725636), ((0, 22), 0.8739984816479559), ((0, 23), 0.31631571138270337), ((0, 24), 0.6286082171111416), ((0, 25), 0.10311043293522762), ((0, 26), 0.8889328630807032), ((0, 27), 0.6419990369581923), ((0, 28), 0.7385288177784491), ((0, 29), 0.7568953150554455), ((0, 30), 0.8149547338727775), ((0, 31), 0.12370666549168075), ((0, 32), 0.21848562918463785), ((0, 33), 0.37848359382681424), ((0, 34), 0.18691571653749578), ((0, 35), 0.17637991231142824), ((0, 36), 0.9310727864061533), ((0, 37), 0.9300331264968805), ((0, 38), 0.9506427860820927), ((0, 39), 0.2113005712088491), ((1, 0), 0.35092273947771113), ((1, 1), 0.3661581802318447), ((1, 2), 0.3670053858825446), ((1, 3), 0.2585678059222771), ((1, 4), 0.10863052877504804), ((1, 5), 0.272772523422832), ((1, 6), 0.043783378201214244), ((1, 7), 0.7451809895806282), ((1, 8), 0.7839563845390308), ((1, 9), 0.457564483875702), ((1, 10), 0.803321255659223), ((1, 11), 0.5730532445115093), ((1, 12), 0.21333050520611935), ((1, 13), 0.003307276409273018), ((1, 14), 0.06573399614097135), ((1, 15), 0.5484285146294496), ((1, 16), 0.32961160483471663), ((1, 17), 0.2621253871387834), ((1, 18), 0.17358375876507937), ((1, 19), 0.119923700068046), ((1, 20), 0.19942109783870954), ((1, 21), 0.562612738030476), ((1, 22), 0.7357002026387734), ((1, 23), 0.2662630860905992), ((1, 24), 0.5291395836718917), ((1, 25), 0.08679462035401356), ((1, 26), 0.7482714229292711), ((1, 27), 0.5404114898385923), ((1, 28), 0.6216667560676987), ((1, 29), 0.637127006917303), ((1, 30), 0.6859993185813476), ((1, 31), 0.10413178144015983), ((1, 32), 0.18391327335227975), ((1, 33), 0.3185937533310241), ((1, 34), 0.15733886662333746), ((1, 35), 0.14847020899195898), ((1, 36), 0.783743281039665), ((1, 37), 0.7828681330594475), ((1, 38), 0.8002165965311084), ((1, 39), 0.17786515230887465)])\n",
            "aa (1, [((0, 0), 0.8293434056207216), ((0, 1), 0.5938627232624825), ((0, 2), 0.3073277235253728), ((0, 3), 0.2257303697844581), ((0, 4), 0.3176243084721864), ((0, 5), 0.4616669951709121), ((0, 6), 0.39245863610945375), ((0, 7), 0.5978140564952404), ((0, 8), 0.4433115482579272), ((0, 9), 0.7210454225944534), ((0, 10), 0.7136911478667654), ((0, 11), 0.19281576490176605), ((0, 12), 0.5406453626020281), ((0, 13), 0.21551603186641302), ((0, 14), 0.28175224298786833), ((0, 15), 0.3030295111551654), ((0, 16), 0.09054588991663137), ((0, 17), 0.023246560848294136), ((0, 18), 0.38278274142370466), ((0, 19), 0.6291389871821107), ((0, 20), 0.37314894081133776), ((0, 21), 0.5259744492055035), ((0, 22), 0.6874513919400608), ((0, 23), 0.6790990776225141), ((0, 24), 0.34601595793349416), ((0, 25), 0.6809830540775275), ((0, 26), 0.0815656908243071), ((0, 27), 0.17222956745329857), ((0, 28), 0.20634773157246344), ((0, 29), 0.23092186110688137), ((0, 30), 0.38985562465775353), ((0, 31), 0.6981237189317123), ((0, 32), 0.03649383364111875), ((0, 33), 0.6310817574229127), ((0, 34), 0.186483564619228), ((0, 35), 0.5721139045446759), ((0, 36), 0.17754818568030326), ((0, 37), 0.10212911288009038), ((0, 38), 0.4674234639192186), ((0, 39), 0.5245339173187884), ((1, 0), 0.22012840888234406), ((1, 1), 0.1576259670967833), ((1, 2), 0.0815724370949082), ((1, 3), 0.05991446582961097), ((1, 4), 0.08430540735294934), ((1, 5), 0.12253792625794589), ((1, 6), 0.10416830294110725), ((1, 7), 0.15867474941252374), ((1, 8), 0.11766593318982047), ((1, 9), 0.19138342516730877), ((1, 10), 0.18943141737015515), ((1, 11), 0.051178109390633574), ((1, 12), 0.1435007532858218), ((1, 13), 0.057203325982778774), ((1, 14), 0.07478406716398855), ((1, 15), 0.0804315844111107), ((1, 16), 0.024033135783199554), ((1, 17), 0.0061702166036897545), ((1, 18), 0.1016000793472958), ((1, 19), 0.1669891667018124), ((1, 20), 0.0990430285696353), ((1, 21), 0.13960672723950565), ((1, 22), 0.182466732195763), ((1, 23), 0.1802498198181567), ((1, 24), 0.09184125870126418), ((1, 25), 0.1807498741220834), ((1, 26), 0.021649567138121245), ((1, 27), 0.04571401953526511), ((1, 28), 0.054769830590900515), ((1, 29), 0.06129241700976922), ((1, 30), 0.10347739882915324), ((1, 31), 0.1852994337568082), ((1, 32), 0.009686372953582345), ((1, 33), 0.16750482634175567), ((1, 34), 0.04949738562352751), ((1, 35), 0.1518532885814968), ((1, 36), 0.04712571336417656), ((1, 37), 0.027107611836659298), ((1, 38), 0.12406583652739242), ((1, 39), 0.1392243741756026)])\n",
            "240 key-value pairs were sent over a network.\n",
            "[(0, [((0, 1), 1.1669930319710033), ((0, 2), 1.0208013398044544), ((0, 4), 0.7744125409319824), ((0, 5), 1.1984145734068452), ((0, 8), 1.4911224944952512), ((0, 9), 1.2842650649743164), ((0, 11), 1.353673980119492), ((0, 12), 1.0553097592784133), ((0, 15), 1.2223973030885669), ((0, 16), 1.0003452807479638), ((0, 18), 0.8782388874698059), ((0, 19), 1.2607980861166361), ((0, 22), 1.6965039963355024), ((0, 23), 1.2362179196809158), ((0, 25), 1.134581697501663), ((0, 26), 1.3349528338562333), ((0, 29), 1.0212118381439275), ((0, 32), 0.8020727845992076), ((0, 33), 1.3373849173291954), ((0, 36), 1.4185158280982593), ((0, 39), 1.408483343741119), ((1, 0), 0.9557953148780791), ((1, 1), 0.7110468894967816), ((1, 3), 0.9252341179391026), ((1, 4), 0.6372134311599807), ((1, 7), 1.4528065833942165), ((1, 10), 1.7445333690073146), ((1, 11), 1.27502530711421), ((1, 14), 0.5296235482627816), ((1, 17), 0.4716881409008813), ((1, 18), 0.66727739312107), ((1, 21), 1.2767540200964937), ((1, 24), 1.2820954475777946), ((1, 25), 0.7426631389581612), ((1, 27), 1.5290842393777113), ((1, 28), 1.1784550719226654), ((1, 31), 0.9798876795941053), ((1, 32), 0.9352343993938494), ((1, 34), 1.0297876653708493), ((1, 35), 0.7390997241327714), ((1, 38), 0.9857849817744394), ((1, 39), 1.2289262238034468)]), (1, [((0, 0), 1.5300535020797192), ((0, 3), 0.9804963637319672), ((0, 6), 0.5866006780592792), ((0, 7), 1.8880287064367915), ((0, 10), 2.2226000509608297), ((0, 13), 0.5319752783928713), ((0, 14), 0.6468805729826467), ((0, 17), 0.4846865188753913), ((0, 20), 1.240366910760316), ((0, 21), 1.6181740677319087), ((0, 24), 1.462318938441785), ((0, 27), 1.5098357368241198), ((0, 28), 1.3152083866215016), ((0, 30), 1.7569117931908345), ((0, 31), 1.3311702165633341), ((0, 34), 0.9804787368989234), ((0, 35), 1.0721727468199977), ((0, 37), 1.2985222138867951), ((0, 38), 1.4634357981979615), ((1, 2), 0.8247243273407201), ((1, 5), 0.9547611700706541), ((1, 6), 0.34061935997365617), ((1, 8), 1.0595283245474003), ((1, 9), 0.6755735373107665), ((1, 12), 0.710954490972413), ((1, 13), 0.48417379589066917), ((1, 15), 0.9919479152825774), ((1, 16), 1.0561482839194984), ((1, 19), 0.9500570050849864), ((1, 20), 1.1529057424885087), ((1, 22), 1.101245080721359), ((1, 23), 0.772943449390035), ((1, 26), 1.2639719118503716), ((1, 29), 0.7436889253220041), ((1, 30), 1.537900422979644), ((1, 33), 0.9304878150570743), ((1, 36), 1.2509596551279398), ((1, 37), 1.1710509144627304)])]\n",
            "[((0, 1), 1.1669930319710033), ((0, 2), 1.0208013398044544), ((0, 4), 0.7744125409319824), ((0, 5), 1.1984145734068452), ((0, 8), 1.4911224944952512), ((0, 9), 1.2842650649743164), ((0, 11), 1.353673980119492), ((0, 12), 1.0553097592784133), ((0, 15), 1.2223973030885669), ((0, 16), 1.0003452807479638), ((0, 18), 0.8782388874698059), ((0, 19), 1.2607980861166361), ((0, 22), 1.6965039963355024), ((0, 23), 1.2362179196809158), ((0, 25), 1.134581697501663), ((0, 26), 1.3349528338562333), ((0, 29), 1.0212118381439275), ((0, 32), 0.8020727845992076), ((0, 33), 1.3373849173291954), ((0, 36), 1.4185158280982593), ((0, 39), 1.408483343741119), ((1, 0), 0.9557953148780791), ((1, 1), 0.7110468894967816), ((1, 3), 0.9252341179391026), ((1, 4), 0.6372134311599807), ((1, 7), 1.4528065833942165), ((1, 10), 1.7445333690073146), ((1, 11), 1.27502530711421), ((1, 14), 0.5296235482627816), ((1, 17), 0.4716881409008813), ((1, 18), 0.66727739312107), ((1, 21), 1.2767540200964937), ((1, 24), 1.2820954475777946), ((1, 25), 0.7426631389581612), ((1, 27), 1.5290842393777113), ((1, 28), 1.1784550719226654), ((1, 31), 0.9798876795941053), ((1, 32), 0.9352343993938494), ((1, 34), 1.0297876653708493), ((1, 35), 0.7390997241327714), ((1, 38), 0.9857849817744394), ((1, 39), 1.2289262238034468), ((0, 0), 1.5300535020797192), ((0, 3), 0.9804963637319672), ((0, 6), 0.5866006780592792), ((0, 7), 1.8880287064367915), ((0, 10), 2.2226000509608297), ((0, 13), 0.5319752783928713), ((0, 14), 0.6468805729826467), ((0, 17), 0.4846865188753913), ((0, 20), 1.240366910760316), ((0, 21), 1.6181740677319087), ((0, 24), 1.462318938441785), ((0, 27), 1.5098357368241198), ((0, 28), 1.3152083866215016), ((0, 30), 1.7569117931908345), ((0, 31), 1.3311702165633341), ((0, 34), 0.9804787368989234), ((0, 35), 1.0721727468199977), ((0, 37), 1.2985222138867951), ((0, 38), 1.4634357981979615), ((1, 2), 0.8247243273407201), ((1, 5), 0.9547611700706541), ((1, 6), 0.34061935997365617), ((1, 8), 1.0595283245474003), ((1, 9), 0.6755735373107665), ((1, 12), 0.710954490972413), ((1, 13), 0.48417379589066917), ((1, 15), 0.9919479152825774), ((1, 16), 1.0561482839194984), ((1, 19), 0.9500570050849864), ((1, 20), 1.1529057424885087), ((1, 22), 1.101245080721359), ((1, 23), 0.772943449390035), ((1, 26), 1.2639719118503716), ((1, 29), 0.7436889253220041), ((1, 30), 1.537900422979644), ((1, 33), 0.9304878150570743), ((1, 36), 1.2509596551279398), ((1, 37), 1.1710509144627304)]\n"
          ]
        },
        {
          "output_type": "execute_result",
          "data": {
            "text/plain": [
              "True"
            ]
          },
          "metadata": {},
          "execution_count": 60
        }
      ]
    }
  ]
}